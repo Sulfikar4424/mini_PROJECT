{
  "nbformat": 4,
  "nbformat_minor": 0,
  "metadata": {
    "colab": {
      "name": "doc_summ.ipynb",
      "provenance": [],
      "collapsed_sections": [],
      "authorship_tag": "ABX9TyP3/ooMVJFZirSB7DhZGbdD",
      "include_colab_link": true
    },
    "kernelspec": {
      "name": "python3",
      "display_name": "Python 3"
    },
    "language_info": {
      "name": "python"
    }
  },
  "cells": [
    {
      "cell_type": "markdown",
      "metadata": {
        "id": "view-in-github",
        "colab_type": "text"
      },
      "source": [
        "<a href=\"https://colab.research.google.com/github/Sulfikar4424/mini_PROJECT/blob/main/doc_summ.ipynb\" target=\"_parent\"><img src=\"https://colab.research.google.com/assets/colab-badge.svg\" alt=\"Open In Colab\"/></a>"
      ]
    },
    {
      "cell_type": "code",
      "execution_count": 14,
      "metadata": {
        "colab": {
          "base_uri": "https://localhost:8080/"
        },
        "id": "c3U_XOnVM5BI",
        "outputId": "0dd7c15d-8a21-41e1-b98d-409e5d3c35bb"
      },
      "outputs": [
        {
          "output_type": "execute_result",
          "data": {
            "text/plain": [
              "['unzip:  cannot find or open *.zip, *.zip.zip or *.zip.ZIP.',\n",
              " '',\n",
              " 'No zipfiles found.']"
            ]
          },
          "metadata": {},
          "execution_count": 14
        }
      ],
      "source": [
        "!!unzip \\*.zip && rm \\*.zip"
      ]
    },
    {
      "cell_type": "code",
      "source": [
        "pip install PyPDF2"
      ],
      "metadata": {
        "colab": {
          "base_uri": "https://localhost:8080/"
        },
        "id": "iczu4EeiNO-P",
        "outputId": "70e69942-7bc3-45f8-c643-20cebb31b878"
      },
      "execution_count": 15,
      "outputs": [
        {
          "output_type": "stream",
          "name": "stdout",
          "text": [
            "Requirement already satisfied: PyPDF2 in /usr/local/lib/python3.7/dist-packages (1.26.0)\n"
          ]
        }
      ]
    },
    {
      "cell_type": "code",
      "source": [
        "pip install docx2txt"
      ],
      "metadata": {
        "colab": {
          "base_uri": "https://localhost:8080/"
        },
        "id": "9-k8tnTxNTT5",
        "outputId": "22588ad3-02ef-4635-a5c8-369dccfcb7d1"
      },
      "execution_count": 16,
      "outputs": [
        {
          "output_type": "stream",
          "name": "stdout",
          "text": [
            "Requirement already satisfied: docx2txt in /usr/local/lib/python3.7/dist-packages (0.8)\n"
          ]
        }
      ]
    },
    {
      "cell_type": "code",
      "source": [
        "import numpy as np\n",
        "import PyPDF2\n",
        "import docx2txt\n",
        "import sys"
      ],
      "metadata": {
        "id": "pqAYxvLBNTi3"
      },
      "execution_count": 17,
      "outputs": []
    },
    {
      "cell_type": "code",
      "source": [
        "import matplotlib.pyplot as plt\n",
        "%matplotlib inline"
      ],
      "metadata": {
        "id": "MZYlcNdgNTuZ"
      },
      "execution_count": 18,
      "outputs": []
    },
    {
      "cell_type": "code",
      "source": [
        "import networkx as nx"
      ],
      "metadata": {
        "id": "h3k8zAmrNT3t"
      },
      "execution_count": 19,
      "outputs": []
    },
    {
      "cell_type": "code",
      "source": [
        "from nltk.tokenize.punkt import PunktSentenceTokenizer"
      ],
      "metadata": {
        "id": "MORmdBOENSge"
      },
      "execution_count": 20,
      "outputs": []
    },
    {
      "cell_type": "code",
      "source": [
        "from sklearn.feature_extraction.text import TfidfTransformer, CountVectorizer"
      ],
      "metadata": {
        "id": "6TrWu9yUNgBi"
      },
      "execution_count": 21,
      "outputs": []
    },
    {
      "cell_type": "code",
      "source": [
        "# we are going to show an example of how the method is working\n",
        "# first let's take the document as an input\n",
        "def readDoc():\n",
        "    name = input('Please input a file name: ') \n",
        "    print('You have asked for the document {}'.format(name))\n",
        "\n",
        "    # now read the type of document\n",
        "    if name.lower().endswith('.txt'):\n",
        "        choice = 1\n",
        "    elif name.lower().endswith('.pdf'):\n",
        "        choice = 2\n",
        "    else:\n",
        "        choice = 3\n",
        "        # print(name)\n",
        "    print(choice)\n",
        "    # Case 1: if it is a .txt file\n",
        "        \n",
        "    if choice == 1:\n",
        "        f = open(name, 'r')\n",
        "        article_text = f.read()\n",
        "        f.close()\n",
        "            \n",
        "    # Case 2: if it is a .pdf file\n",
        "    elif choice == 2:\n",
        "        pdfFileObj = open(name, 'rb')\n",
        "        pdfReader = PyPDF2.PdfFileReader(pdfFileObj)\n",
        "        pageObj = pdfReader.getPage(0)\n",
        "        article_text = pageObj.extractText()\n",
        "        pdfFileObj.close()\n",
        "    \n",
        "    # Case 3: none of the format\n",
        "    else:\n",
        "        print('Failed to load a valid file')\n",
        "        print('Returning an empty string')\n",
        "        article_text = ''\n",
        "    \n",
        "    print(type(article_text))\n",
        "    return article_text"
      ],
      "metadata": {
        "id": "O7gAT8eeNgHj"
      },
      "execution_count": 22,
      "outputs": []
    },
    {
      "cell_type": "code",
      "source": [
        "# the function used for tokenizing the sentences\n",
        "# tokenization of a sentence: '''provided in cell() above'''\n",
        "\n",
        "def tokenize(article_text):\n",
        "    # We are tokenizing using the PunktSentenceTokenizer\n",
        "    # we call an instance of this class as sentence_tokenizer\n",
        "    doc_tokenizer = PunktSentenceTokenizer()\n",
        "    \n",
        "    # tokenize() method: takes our document as input and returns a list of all the sentences in the document\n",
        "    \n",
        "    # sentences is a list containing each sentence of the document as an element\n",
        "    sentences_list = doc_tokenizer.tokenize(document)\n",
        "    return sentences_list"
      ],
      "metadata": {
        "id": "do0u8cjwNgLe"
      },
      "execution_count": 23,
      "outputs": []
    },
    {
      "cell_type": "code",
      "source": [
        "# reading a file and \n",
        "# printing the size of the file\n",
        "article_text = readDoc()\n",
        "print('The length of the file is:', end=' ')\n",
        "print(len(article_text))"
      ],
      "metadata": {
        "colab": {
          "base_uri": "https://localhost:8080/"
        },
        "id": "blHykQHgNgPr",
        "outputId": "a0bfc6c1-6325-4ca2-d970-c291d781fe15"
      },
      "execution_count": 24,
      "outputs": [
        {
          "output_type": "stream",
          "name": "stdout",
          "text": [
            "Please input a file name: essay.pdf\n",
            "You have asked for the document essay.pdf\n",
            "2\n",
            "<class 'str'>\n",
            "The length of the file is: 3289\n"
          ]
        }
      ]
    },
    {
      "cell_type": "code",
      "source": [
        ""
      ],
      "metadata": {
        "id": "DMZGPKBC0Q1R"
      },
      "execution_count": 24,
      "outputs": []
    },
    {
      "cell_type": "code",
      "source": [
        "print(article_text)"
      ],
      "metadata": {
        "colab": {
          "base_uri": "https://localhost:8080/"
        },
        "id": "MdZ8l0YkyVTK",
        "outputId": "c1158c7c-293a-4d43-988d-fdb53460e248"
      },
      "execution_count": 25,
      "outputs": [
        {
          "output_type": "stream",
          "name": "stdout",
          "text": [
            "Example Five-Paragraph Essay (on the advantages of five-paragraph model)\n",
            "I love using the five-paragraph model for writing. I can find three points to argue for or exemplify just about \n",
            "any topic imaginable. Cats are good pets because theyÕre good companions, theyÕre clean, and theyÕre easy to \n",
            "care for. \n",
            "Jaws\n",
            " is a classic film because of its acting, its cinematography, and its musical score. Three examples \n",
            "of the U.S. governmentÕs checks and balances are its executive branch, its legislative branch, and its judicial \n",
            "branches. The five-paragraph model is a valuable tool for many writing situations because it structures my \n",
            "writing, it aids my readers, and it is versatile. \n",
            "One advantage of the five-paragraph model is that it structures what I write. Before I learned the five-paragraph \n",
            "recipe, IÕd either stare at a blank screen or IÕd write one big block of text; now, I know to first identify three \n",
            "examples, reasons, or other supporting pieces of evidence. Then, I develop those three examples, reasons, or \n",
            "pieces of evidence into its own paragraph. I write a thesis statement based off those three examples, reasons, or \n",
            "pieces of evidence; I flesh out my introduction with a hook; and I write a conclusion paragraph. Following the \n",
            "five-paragraph model makes my writing tasks considerably less intimidating.  \n",
            "A related advantage of the five-paragraph model is that my following the recipe makes it easy for readers to \n",
            "follow my writing. When readers see five paragraphs (not one block of text), they can anticipate that IÕll \n",
            "introduce my topic in my first paragraph and that IÕll conclude my first paragraph with my thesis statement. \n",
            "Readers can predict that IÕll provide three examples, reasons, or other supporting evidence to support my thesis \n",
            "statement, each of which will be fleshed out in its own paragraph: boom, boom, boom. And readers know \n",
            "theyÕll find my conclusions in my final, fifth paragraph. By using the five-paragraph model, I ease the burden \n",
            "on my readers.\n",
            "A third advantage of the five-paragraph model is that, like most recipes, it can be doubled or even tripled. For a \n",
            "standard 400 to 500-word paper, I apply the standard single batch of the recipe, writing 75 to 100 words in each \n",
            "of the five paragraphs. For a 1000-word essay, I double the recipe writing by two paragraphs, rather than only \n",
            "one, for the introduction, the three supporting paragraphs, and the conclusion paragraph. I can even write a \n",
            "5000-word paper with this recipe (by writing 1000 words for each of the five components). The five-paragraph \n",
            "model is versatile for all my writing needs.\n",
            "ItÕs obvious. IÕm clearly a fan of the five-paragraph model. As long as IÕm able to outline three reasons why \n",
            "Psychology is my favorite subject, three arguments why \n",
            "Pulp Fiction\n",
            " is better than \n",
            "Forrest Gump\n",
            ", and three \n",
            "examples of how ShakespeareÕs works are relevant to current day society, I can write just about any analytical \n",
            "essay. The five-paragraph model is truly a valuable tool. I wished my life was as well structured, versatile, and \n",
            "easy to follow as the five-paragraph model. \n",
            "Based off of an essay by Dr. Robert T. Koch Jr., UNA University Writing Center; August 27, 2007 \n",
            "(https://www.una.edu/writingcenter/docs/Writing-Resources/Organization5Paragraph.pdf\n",
            ")1\n"
          ]
        }
      ]
    },
    {
      "cell_type": "code",
      "source": [
        "import re\n",
        "import nltk"
      ],
      "metadata": {
        "id": "iSejcDZf8DsM"
      },
      "execution_count": 26,
      "outputs": []
    },
    {
      "cell_type": "code",
      "source": [
        "article_text = article_text.lower()\n",
        "article_text"
      ],
      "metadata": {
        "colab": {
          "base_uri": "https://localhost:8080/",
          "height": 159
        },
        "id": "RtZxEiz28Dyv",
        "outputId": "c336ef35-c10e-41ec-a48b-19348d094329"
      },
      "execution_count": 27,
      "outputs": [
        {
          "output_type": "execute_result",
          "data": {
            "application/vnd.google.colaboratory.intrinsic+json": {
              "type": "string"
            },
            "text/plain": [
              "'example five-paragraph essay (on the advantages of five-paragraph model)\\ni love using the five-paragraph model for writing. i can find three points to argue for or exemplify just about \\nany topic imaginable. cats are good pets because theyõre good companions, theyõre clean, and theyõre easy to \\ncare for. \\njaws\\n is a classic film because of its acting, its cinematography, and its musical score. three examples \\nof the u.s. governmentõs checks and balances are its executive branch, its legislative branch, and its judicial \\nbranches. the five-paragraph model is a valuable tool for many writing situations because it structures my \\nwriting, it aids my readers, and it is versatile. \\none advantage of the five-paragraph model is that it structures what i write. before i learned the five-paragraph \\nrecipe, iõd either stare at a blank screen or iõd write one big block of text; now, i know to first identify three \\nexamples, reasons, or other supporting pieces of evidence. then, i develop those three examples, reasons, or \\npieces of evidence into its own paragraph. i write a thesis statement based off those three examples, reasons, or \\npieces of evidence; i flesh out my introduction with a hook; and i write a conclusion paragraph. following the \\nfive-paragraph model makes my writing tasks considerably less intimidating.  \\na related advantage of the five-paragraph model is that my following the recipe makes it easy for readers to \\nfollow my writing. when readers see five paragraphs (not one block of text), they can anticipate that iõll \\nintroduce my topic in my first paragraph and that iõll conclude my first paragraph with my thesis statement. \\nreaders can predict that iõll provide three examples, reasons, or other supporting evidence to support my thesis \\nstatement, each of which will be fleshed out in its own paragraph: boom, boom, boom. and readers know \\ntheyõll find my conclusions in my final, fifth paragraph. by using the five-paragraph model, i ease the burden \\non my readers.\\na third advantage of the five-paragraph model is that, like most recipes, it can be doubled or even tripled. for a \\nstandard 400 to 500-word paper, i apply the standard single batch of the recipe, writing 75 to 100 words in each \\nof the five paragraphs. for a 1000-word essay, i double the recipe writing by two paragraphs, rather than only \\none, for the introduction, the three supporting paragraphs, and the conclusion paragraph. i can even write a \\n5000-word paper with this recipe (by writing 1000 words for each of the five components). the five-paragraph \\nmodel is versatile for all my writing needs.\\nitõs obvious. iõm clearly a fan of the five-paragraph model. as long as iõm able to outline three reasons why \\npsychology is my favorite subject, three arguments why \\npulp fiction\\n is better than \\nforrest gump\\n, and three \\nexamples of how shakespeareõs works are relevant to current day society, i can write just about any analytical \\nessay. the five-paragraph model is truly a valuable tool. i wished my life was as well structured, versatile, and \\neasy to follow as the five-paragraph model. \\nbased off of an essay by dr. robert t. koch jr., una university writing center; august 27, 2007 \\n(https://www.una.edu/writingcenter/docs/writing-resources/organization5paragraph.pdf\\n)1'"
            ]
          },
          "metadata": {},
          "execution_count": 27
        }
      ]
    },
    {
      "cell_type": "code",
      "source": [
        "# remove spaces, punctuations and numbers\n",
        "clean_text = re.sub('[^a-zA-Z]', ' ', article_text)\n",
        "clean_text = re.sub('\\s+', ' ', clean_text)\n",
        "clean_text"
      ],
      "metadata": {
        "colab": {
          "base_uri": "https://localhost:8080/",
          "height": 159
        },
        "id": "6D3mroKg8D6g",
        "outputId": "8ddd4a8d-23bc-4cdb-87d1-6e8295310089"
      },
      "execution_count": 28,
      "outputs": [
        {
          "output_type": "execute_result",
          "data": {
            "application/vnd.google.colaboratory.intrinsic+json": {
              "type": "string"
            },
            "text/plain": [
              "'example five paragraph essay on the advantages of five paragraph model i love using the five paragraph model for writing i can find three points to argue for or exemplify just about any topic imaginable cats are good pets because they re good companions they re clean and they re easy to care for jaws is a classic film because of its acting its cinematography and its musical score three examples of the u s government s checks and balances are its executive branch its legislative branch and its judicial branches the five paragraph model is a valuable tool for many writing situations because it structures my writing it aids my readers and it is versatile one advantage of the five paragraph model is that it structures what i write before i learned the five paragraph recipe i d either stare at a blank screen or i d write one big block of text now i know to first identify three examples reasons or other supporting pieces of evidence then i develop those three examples reasons or pieces of evidence into its own paragraph i write a thesis statement based off those three examples reasons or pieces of evidence i flesh out my introduction with a hook and i write a conclusion paragraph following the five paragraph model makes my writing tasks considerably less intimidating a related advantage of the five paragraph model is that my following the recipe makes it easy for readers to follow my writing when readers see five paragraphs not one block of text they can anticipate that i ll introduce my topic in my first paragraph and that i ll conclude my first paragraph with my thesis statement readers can predict that i ll provide three examples reasons or other supporting evidence to support my thesis statement each of which will be fleshed out in its own paragraph boom boom boom and readers know they ll find my conclusions in my final fifth paragraph by using the five paragraph model i ease the burden on my readers a third advantage of the five paragraph model is that like most recipes it can be doubled or even tripled for a standard to word paper i apply the standard single batch of the recipe writing to words in each of the five paragraphs for a word essay i double the recipe writing by two paragraphs rather than only one for the introduction the three supporting paragraphs and the conclusion paragraph i can even write a word paper with this recipe by writing words for each of the five components the five paragraph model is versatile for all my writing needs it s obvious i m clearly a fan of the five paragraph model as long as i m able to outline three reasons why psychology is my favorite subject three arguments why pulp fiction is better than forrest gump and three examples of how shakespeare s works are relevant to current day society i can write just about any analytical essay the five paragraph model is truly a valuable tool i wished my life was as well structured versatile and easy to follow as the five paragraph model based off of an essay by dr robert t koch jr una university writing center august https www una edu writingcenter docs writing resources organization paragraph pdf '"
            ]
          },
          "metadata": {},
          "execution_count": 28
        }
      ]
    },
    {
      "cell_type": "code",
      "source": [
        "import nltk\n",
        "nltk.download('punkt')"
      ],
      "metadata": {
        "colab": {
          "base_uri": "https://localhost:8080/"
        },
        "id": "rC4mBQec8D9U",
        "outputId": "03923d8d-a5af-4c1d-9fdd-e761d4ba51b4"
      },
      "execution_count": 29,
      "outputs": [
        {
          "output_type": "stream",
          "name": "stdout",
          "text": [
            "[nltk_data] Downloading package punkt to /root/nltk_data...\n",
            "[nltk_data]   Unzipping tokenizers/punkt.zip.\n"
          ]
        },
        {
          "output_type": "execute_result",
          "data": {
            "text/plain": [
              "True"
            ]
          },
          "metadata": {},
          "execution_count": 29
        }
      ]
    },
    {
      "cell_type": "code",
      "source": [
        "# split into sentence list\n",
        "sentence_list = nltk.sent_tokenize(article_text)\n",
        "sentence_list"
      ],
      "metadata": {
        "colab": {
          "base_uri": "https://localhost:8080/"
        },
        "id": "LiAc640n8EES",
        "outputId": "c0145b6a-2191-46c2-803f-2492ef3da7a9"
      },
      "execution_count": 30,
      "outputs": [
        {
          "output_type": "execute_result",
          "data": {
            "text/plain": [
              "['example five-paragraph essay (on the advantages of five-paragraph model)\\ni love using the five-paragraph model for writing.',\n",
              " 'i can find three points to argue for or exemplify just about \\nany topic imaginable.',\n",
              " 'cats are good pets because theyõre good companions, theyõre clean, and theyõre easy to \\ncare for.',\n",
              " 'jaws\\n is a classic film because of its acting, its cinematography, and its musical score.',\n",
              " 'three examples \\nof the u.s. governmentõs checks and balances are its executive branch, its legislative branch, and its judicial \\nbranches.',\n",
              " 'the five-paragraph model is a valuable tool for many writing situations because it structures my \\nwriting, it aids my readers, and it is versatile.',\n",
              " 'one advantage of the five-paragraph model is that it structures what i write.',\n",
              " 'before i learned the five-paragraph \\nrecipe, iõd either stare at a blank screen or iõd write one big block of text; now, i know to first identify three \\nexamples, reasons, or other supporting pieces of evidence.',\n",
              " 'then, i develop those three examples, reasons, or \\npieces of evidence into its own paragraph.',\n",
              " 'i write a thesis statement based off those three examples, reasons, or \\npieces of evidence; i flesh out my introduction with a hook; and i write a conclusion paragraph.',\n",
              " 'following the \\nfive-paragraph model makes my writing tasks considerably less intimidating.',\n",
              " 'a related advantage of the five-paragraph model is that my following the recipe makes it easy for readers to \\nfollow my writing.',\n",
              " 'when readers see five paragraphs (not one block of text), they can anticipate that iõll \\nintroduce my topic in my first paragraph and that iõll conclude my first paragraph with my thesis statement.',\n",
              " 'readers can predict that iõll provide three examples, reasons, or other supporting evidence to support my thesis \\nstatement, each of which will be fleshed out in its own paragraph: boom, boom, boom.',\n",
              " 'and readers know \\ntheyõll find my conclusions in my final, fifth paragraph.',\n",
              " 'by using the five-paragraph model, i ease the burden \\non my readers.',\n",
              " 'a third advantage of the five-paragraph model is that, like most recipes, it can be doubled or even tripled.',\n",
              " 'for a \\nstandard 400 to 500-word paper, i apply the standard single batch of the recipe, writing 75 to 100 words in each \\nof the five paragraphs.',\n",
              " 'for a 1000-word essay, i double the recipe writing by two paragraphs, rather than only \\none, for the introduction, the three supporting paragraphs, and the conclusion paragraph.',\n",
              " 'i can even write a \\n5000-word paper with this recipe (by writing 1000 words for each of the five components).',\n",
              " 'the five-paragraph \\nmodel is versatile for all my writing needs.',\n",
              " 'itõs obvious.',\n",
              " 'iõm clearly a fan of the five-paragraph model.',\n",
              " 'as long as iõm able to outline three reasons why \\npsychology is my favorite subject, three arguments why \\npulp fiction\\n is better than \\nforrest gump\\n, and three \\nexamples of how shakespeareõs works are relevant to current day society, i can write just about any analytical \\nessay.',\n",
              " 'the five-paragraph model is truly a valuable tool.',\n",
              " 'i wished my life was as well structured, versatile, and \\neasy to follow as the five-paragraph model.',\n",
              " 'based off of an essay by dr. robert t. koch jr., una university writing center; august 27, 2007 \\n(https://www.una.edu/writingcenter/docs/writing-resources/organization5paragraph.pdf\\n)1']"
            ]
          },
          "metadata": {},
          "execution_count": 30
        }
      ]
    },
    {
      "cell_type": "code",
      "source": [
        "## run this cell once to download stopwords\n",
        "import nltk\n",
        "nltk.download('stopwords')"
      ],
      "metadata": {
        "colab": {
          "base_uri": "https://localhost:8080/"
        },
        "id": "X_FCn84U8UJF",
        "outputId": "4828876f-146d-49b6-bb20-7f8895280cb0"
      },
      "execution_count": 31,
      "outputs": [
        {
          "output_type": "stream",
          "name": "stdout",
          "text": [
            "[nltk_data] Downloading package stopwords to /root/nltk_data...\n",
            "[nltk_data]   Unzipping corpora/stopwords.zip.\n"
          ]
        },
        {
          "output_type": "execute_result",
          "data": {
            "text/plain": [
              "True"
            ]
          },
          "metadata": {},
          "execution_count": 31
        }
      ]
    },
    {
      "cell_type": "markdown",
      "source": [
        "freq"
      ],
      "metadata": {
        "id": "Zku04CPR8cfd"
      }
    },
    {
      "cell_type": "code",
      "source": [
        "stopwords = nltk.corpus.stopwords.words('english')\n",
        "\n",
        "word_frequencies = {}\n",
        "for word in nltk.word_tokenize(clean_text):\n",
        "    if word not in stopwords:\n",
        "        if word not in word_frequencies:\n",
        "            word_frequencies[word] = 1\n",
        "        else:\n",
        "            word_frequencies[word] += 1"
      ],
      "metadata": {
        "id": "Wn8XuAY-8UK6"
      },
      "execution_count": 32,
      "outputs": []
    },
    {
      "cell_type": "code",
      "source": [
        "maximum_frequency = max(word_frequencies.values())\n",
        "\n",
        "for word in word_frequencies:\n",
        "    word_frequencies[word] = word_frequencies[word] / maximum_frequency"
      ],
      "metadata": {
        "id": "Tu1P9zsE8UNa"
      },
      "execution_count": 33,
      "outputs": []
    },
    {
      "cell_type": "markdown",
      "source": [
        "Calculate Sentence Scores"
      ],
      "metadata": {
        "id": "oO46Ig858igv"
      }
    },
    {
      "cell_type": "code",
      "source": [
        "sentence_scores = {}\n",
        "\n",
        "for sentence in sentence_list:\n",
        "    for word in nltk.word_tokenize(sentence):\n",
        "        if word in word_frequencies and len(sentence.split(' ')) < 30:\n",
        "            if sentence not in sentence_scores:\n",
        "                sentence_scores[sentence] = word_frequencies[word]\n",
        "            else:\n",
        "                sentence_scores[sentence] += word_frequencies[word]"
      ],
      "metadata": {
        "id": "f2WgU9f_8UQb"
      },
      "execution_count": 34,
      "outputs": []
    },
    {
      "cell_type": "code",
      "source": [
        "word_frequencies"
      ],
      "metadata": {
        "colab": {
          "base_uri": "https://localhost:8080/"
        },
        "id": "hwZT9NJJ8EHx",
        "outputId": "9ac93714-b64c-42e6-efea-cadf5663269c"
      },
      "execution_count": 35,
      "outputs": [
        {
          "output_type": "execute_result",
          "data": {
            "text/plain": [
              "{'able': 0.045454545454545456,\n",
              " 'acting': 0.045454545454545456,\n",
              " 'advantage': 0.13636363636363635,\n",
              " 'advantages': 0.045454545454545456,\n",
              " 'aids': 0.045454545454545456,\n",
              " 'analytical': 0.045454545454545456,\n",
              " 'anticipate': 0.045454545454545456,\n",
              " 'apply': 0.045454545454545456,\n",
              " 'argue': 0.045454545454545456,\n",
              " 'arguments': 0.045454545454545456,\n",
              " 'august': 0.045454545454545456,\n",
              " 'balances': 0.045454545454545456,\n",
              " 'based': 0.09090909090909091,\n",
              " 'batch': 0.045454545454545456,\n",
              " 'better': 0.045454545454545456,\n",
              " 'big': 0.045454545454545456,\n",
              " 'blank': 0.045454545454545456,\n",
              " 'block': 0.09090909090909091,\n",
              " 'boom': 0.13636363636363635,\n",
              " 'branch': 0.09090909090909091,\n",
              " 'branches': 0.045454545454545456,\n",
              " 'burden': 0.045454545454545456,\n",
              " 'care': 0.045454545454545456,\n",
              " 'cats': 0.045454545454545456,\n",
              " 'center': 0.045454545454545456,\n",
              " 'checks': 0.045454545454545456,\n",
              " 'cinematography': 0.045454545454545456,\n",
              " 'classic': 0.045454545454545456,\n",
              " 'clean': 0.045454545454545456,\n",
              " 'clearly': 0.045454545454545456,\n",
              " 'companions': 0.045454545454545456,\n",
              " 'components': 0.045454545454545456,\n",
              " 'conclude': 0.045454545454545456,\n",
              " 'conclusion': 0.09090909090909091,\n",
              " 'conclusions': 0.045454545454545456,\n",
              " 'considerably': 0.045454545454545456,\n",
              " 'current': 0.045454545454545456,\n",
              " 'day': 0.045454545454545456,\n",
              " 'develop': 0.045454545454545456,\n",
              " 'docs': 0.045454545454545456,\n",
              " 'double': 0.045454545454545456,\n",
              " 'doubled': 0.045454545454545456,\n",
              " 'dr': 0.045454545454545456,\n",
              " 'ease': 0.045454545454545456,\n",
              " 'easy': 0.13636363636363635,\n",
              " 'edu': 0.045454545454545456,\n",
              " 'either': 0.045454545454545456,\n",
              " 'essay': 0.18181818181818182,\n",
              " 'even': 0.09090909090909091,\n",
              " 'evidence': 0.18181818181818182,\n",
              " 'example': 0.045454545454545456,\n",
              " 'examples': 0.2727272727272727,\n",
              " 'executive': 0.045454545454545456,\n",
              " 'exemplify': 0.045454545454545456,\n",
              " 'fan': 0.045454545454545456,\n",
              " 'favorite': 0.045454545454545456,\n",
              " 'fiction': 0.045454545454545456,\n",
              " 'fifth': 0.045454545454545456,\n",
              " 'film': 0.045454545454545456,\n",
              " 'final': 0.045454545454545456,\n",
              " 'find': 0.09090909090909091,\n",
              " 'first': 0.13636363636363635,\n",
              " 'five': 0.7727272727272727,\n",
              " 'flesh': 0.045454545454545456,\n",
              " 'fleshed': 0.045454545454545456,\n",
              " 'follow': 0.09090909090909091,\n",
              " 'following': 0.09090909090909091,\n",
              " 'forrest': 0.045454545454545456,\n",
              " 'good': 0.09090909090909091,\n",
              " 'government': 0.045454545454545456,\n",
              " 'gump': 0.045454545454545456,\n",
              " 'hook': 0.045454545454545456,\n",
              " 'https': 0.045454545454545456,\n",
              " 'identify': 0.045454545454545456,\n",
              " 'imaginable': 0.045454545454545456,\n",
              " 'intimidating': 0.045454545454545456,\n",
              " 'introduce': 0.045454545454545456,\n",
              " 'introduction': 0.09090909090909091,\n",
              " 'jaws': 0.045454545454545456,\n",
              " 'jr': 0.045454545454545456,\n",
              " 'judicial': 0.045454545454545456,\n",
              " 'know': 0.09090909090909091,\n",
              " 'koch': 0.045454545454545456,\n",
              " 'learned': 0.045454545454545456,\n",
              " 'legislative': 0.045454545454545456,\n",
              " 'less': 0.045454545454545456,\n",
              " 'life': 0.045454545454545456,\n",
              " 'like': 0.045454545454545456,\n",
              " 'long': 0.045454545454545456,\n",
              " 'love': 0.045454545454545456,\n",
              " 'makes': 0.09090909090909091,\n",
              " 'many': 0.045454545454545456,\n",
              " 'model': 0.5454545454545454,\n",
              " 'musical': 0.045454545454545456,\n",
              " 'needs': 0.045454545454545456,\n",
              " 'obvious': 0.045454545454545456,\n",
              " 'one': 0.18181818181818182,\n",
              " 'organization': 0.045454545454545456,\n",
              " 'outline': 0.045454545454545456,\n",
              " 'paper': 0.09090909090909091,\n",
              " 'paragraph': 1.0,\n",
              " 'paragraphs': 0.18181818181818182,\n",
              " 'pdf': 0.045454545454545456,\n",
              " 'pets': 0.045454545454545456,\n",
              " 'pieces': 0.13636363636363635,\n",
              " 'points': 0.045454545454545456,\n",
              " 'predict': 0.045454545454545456,\n",
              " 'provide': 0.045454545454545456,\n",
              " 'psychology': 0.045454545454545456,\n",
              " 'pulp': 0.045454545454545456,\n",
              " 'rather': 0.045454545454545456,\n",
              " 'readers': 0.2727272727272727,\n",
              " 'reasons': 0.22727272727272727,\n",
              " 'recipe': 0.22727272727272727,\n",
              " 'recipes': 0.045454545454545456,\n",
              " 'related': 0.045454545454545456,\n",
              " 'relevant': 0.045454545454545456,\n",
              " 'resources': 0.045454545454545456,\n",
              " 'robert': 0.045454545454545456,\n",
              " 'score': 0.045454545454545456,\n",
              " 'screen': 0.045454545454545456,\n",
              " 'see': 0.045454545454545456,\n",
              " 'shakespeare': 0.045454545454545456,\n",
              " 'single': 0.045454545454545456,\n",
              " 'situations': 0.045454545454545456,\n",
              " 'society': 0.045454545454545456,\n",
              " 'standard': 0.09090909090909091,\n",
              " 'stare': 0.045454545454545456,\n",
              " 'statement': 0.13636363636363635,\n",
              " 'structured': 0.045454545454545456,\n",
              " 'structures': 0.09090909090909091,\n",
              " 'subject': 0.045454545454545456,\n",
              " 'support': 0.045454545454545456,\n",
              " 'supporting': 0.13636363636363635,\n",
              " 'tasks': 0.045454545454545456,\n",
              " 'text': 0.09090909090909091,\n",
              " 'thesis': 0.13636363636363635,\n",
              " 'third': 0.045454545454545456,\n",
              " 'three': 0.45454545454545453,\n",
              " 'tool': 0.09090909090909091,\n",
              " 'topic': 0.09090909090909091,\n",
              " 'tripled': 0.045454545454545456,\n",
              " 'truly': 0.045454545454545456,\n",
              " 'two': 0.045454545454545456,\n",
              " 'u': 0.045454545454545456,\n",
              " 'una': 0.09090909090909091,\n",
              " 'university': 0.045454545454545456,\n",
              " 'using': 0.09090909090909091,\n",
              " 'valuable': 0.09090909090909091,\n",
              " 'versatile': 0.13636363636363635,\n",
              " 'well': 0.045454545454545456,\n",
              " 'wished': 0.045454545454545456,\n",
              " 'word': 0.13636363636363635,\n",
              " 'words': 0.09090909090909091,\n",
              " 'works': 0.045454545454545456,\n",
              " 'write': 0.2727272727272727,\n",
              " 'writing': 0.5,\n",
              " 'writingcenter': 0.045454545454545456,\n",
              " 'www': 0.045454545454545456}"
            ]
          },
          "metadata": {},
          "execution_count": 35
        }
      ]
    },
    {
      "cell_type": "code",
      "source": [
        "sentence_scores"
      ],
      "metadata": {
        "colab": {
          "base_uri": "https://localhost:8080/"
        },
        "id": "0Dlmqdxy8n5Y",
        "outputId": "628d2cbf-3732-4dcb-8a15-bee7ad6c2303"
      },
      "execution_count": 36,
      "outputs": [
        {
          "output_type": "execute_result",
          "data": {
            "text/plain": [
              "{'a related advantage of the five-paragraph model is that my following the recipe makes it easy for readers to \\nfollow my writing.': 2.136363636363636,\n",
              " 'a third advantage of the five-paragraph model is that, like most recipes, it can be doubled or even tripled.': 0.9999999999999999,\n",
              " 'and readers know \\ntheyõll find my conclusions in my final, fifth paragraph.': 1.5909090909090908,\n",
              " 'based off of an essay by dr. robert t. koch jr., una university writing center; august 27, 2007 \\n(https://www.una.edu/writingcenter/docs/writing-resources/organization5paragraph.pdf\\n)1': 1.1363636363636362,\n",
              " 'by using the five-paragraph model, i ease the burden \\non my readers.': 0.9999999999999999,\n",
              " 'cats are good pets because theyõre good companions, theyõre clean, and theyõre easy to \\ncare for.': 0.5454545454545454,\n",
              " 'example five-paragraph essay (on the advantages of five-paragraph model)\\ni love using the five-paragraph model for writing.': 2.0,\n",
              " 'following the \\nfive-paragraph model makes my writing tasks considerably less intimidating.': 1.409090909090909,\n",
              " 'for a \\nstandard 400 to 500-word paper, i apply the standard single batch of the recipe, writing 75 to 100 words in each \\nof the five paragraphs.': 2.1818181818181817,\n",
              " 'for a 1000-word essay, i double the recipe writing by two paragraphs, rather than only \\none, for the introduction, the three supporting paragraphs, and the conclusion paragraph.': 3.3636363636363633,\n",
              " 'i can even write a \\n5000-word paper with this recipe (by writing 1000 words for each of the five components).': 2.090909090909091,\n",
              " 'i can find three points to argue for or exemplify just about \\nany topic imaginable.': 0.818181818181818,\n",
              " 'i wished my life was as well structured, versatile, and \\neasy to follow as the five-paragraph model.': 1.0909090909090908,\n",
              " 'i write a thesis statement based off those three examples, reasons, or \\npieces of evidence; i flesh out my introduction with a hook; and i write a conclusion paragraph.': 3.454545454545454,\n",
              " 'itõs obvious.': 0.045454545454545456,\n",
              " 'iõm clearly a fan of the five-paragraph model.': 0.6363636363636364,\n",
              " 'jaws\\n is a classic film because of its acting, its cinematography, and its musical score.': 0.31818181818181823,\n",
              " 'one advantage of the five-paragraph model is that it structures what i write.': 1.227272727272727,\n",
              " 'the five-paragraph \\nmodel is versatile for all my writing needs.': 1.227272727272727,\n",
              " 'the five-paragraph model is a valuable tool for many writing situations because it structures my \\nwriting, it aids my readers, and it is versatile.': 2.3636363636363633,\n",
              " 'the five-paragraph model is truly a valuable tool.': 0.7727272727272727,\n",
              " 'then, i develop those three examples, reasons, or \\npieces of evidence into its own paragraph.': 2.3181818181818183,\n",
              " 'three examples \\nof the u.s. governmentõs checks and balances are its executive branch, its legislative branch, and its judicial \\nbranches.': 1.1818181818181817}"
            ]
          },
          "metadata": {},
          "execution_count": 36
        }
      ]
    },
    {
      "cell_type": "markdown",
      "source": [
        "Summary"
      ],
      "metadata": {
        "id": "R8Pdi3a18uMc"
      }
    },
    {
      "cell_type": "code",
      "source": [
        ""
      ],
      "metadata": {
        "id": "eBKlRv-58n9t"
      },
      "execution_count": null,
      "outputs": []
    },
    {
      "cell_type": "code",
      "source": [
        "import heapq\n",
        "summary = heapq.nlargest(5, sentence_scores, key=sentence_scores.get)\n",
        "\n",
        "print(\" \".join(summary))"
      ],
      "metadata": {
        "colab": {
          "base_uri": "https://localhost:8080/"
        },
        "id": "KiUViuyd8oDQ",
        "outputId": "51aea85d-5a4e-4f42-c2e7-82b44ee097e3"
      },
      "execution_count": 37,
      "outputs": [
        {
          "output_type": "stream",
          "name": "stdout",
          "text": [
            "i write a thesis statement based off those three examples, reasons, or \n",
            "pieces of evidence; i flesh out my introduction with a hook; and i write a conclusion paragraph. for a 1000-word essay, i double the recipe writing by two paragraphs, rather than only \n",
            "one, for the introduction, the three supporting paragraphs, and the conclusion paragraph. the five-paragraph model is a valuable tool for many writing situations because it structures my \n",
            "writing, it aids my readers, and it is versatile. then, i develop those three examples, reasons, or \n",
            "pieces of evidence into its own paragraph. for a \n",
            "standard 400 to 500-word paper, i apply the standard single batch of the recipe, writing 75 to 100 words in each \n",
            "of the five paragraphs.\n"
          ]
        }
      ]
    },
    {
      "cell_type": "markdown",
      "source": [
        "EVALUATION"
      ],
      "metadata": {
        "id": "meFTlZ2e9JAx"
      }
    },
    {
      "cell_type": "code",
      "source": [
        ""
      ],
      "metadata": {
        "id": "e30ytO1C8oHR"
      },
      "execution_count": null,
      "outputs": []
    },
    {
      "cell_type": "code",
      "source": [
        ""
      ],
      "metadata": {
        "id": "DEzjHubv8oOA"
      },
      "execution_count": null,
      "outputs": []
    }
  ]
}