{
  "nbformat": 4,
  "nbformat_minor": 0,
  "metadata": {
    "colab": {
      "name": "doc_summ.ipynb",
      "provenance": [],
      "collapsed_sections": [],
      "authorship_tag": "ABX9TyP1ad/yQKIWyqCTtXO3kA+e",
      "include_colab_link": true
    },
    "kernelspec": {
      "name": "python3",
      "display_name": "Python 3"
    },
    "language_info": {
      "name": "python"
    }
  },
  "cells": [
    {
      "cell_type": "markdown",
      "metadata": {
        "id": "view-in-github",
        "colab_type": "text"
      },
      "source": [
        "<a href=\"https://colab.research.google.com/github/Sulfikar4424/mini_PROJECT/blob/main/doc_summ.ipynb\" target=\"_parent\"><img src=\"https://colab.research.google.com/assets/colab-badge.svg\" alt=\"Open In Colab\"/></a>"
      ]
    },
    {
      "cell_type": "code",
      "execution_count": 1,
      "metadata": {
        "colab": {
          "base_uri": "https://localhost:8080/"
        },
        "id": "c3U_XOnVM5BI",
        "outputId": "b1e7dd08-d5e0-4caa-9265-48076a46f6f7"
      },
      "outputs": [
        {
          "output_type": "execute_result",
          "data": {
            "text/plain": [
              "['unzip:  cannot find or open *.zip, *.zip.zip or *.zip.ZIP.',\n",
              " '',\n",
              " 'No zipfiles found.']"
            ]
          },
          "metadata": {},
          "execution_count": 1
        }
      ],
      "source": [
        "!!unzip \\*.zip && rm \\*.zip"
      ]
    },
    {
      "cell_type": "code",
      "source": [
        "pip install PyPDF2"
      ],
      "metadata": {
        "colab": {
          "base_uri": "https://localhost:8080/"
        },
        "id": "iczu4EeiNO-P",
        "outputId": "e376b3e3-b9a2-40fc-96c6-705e68fbc36b"
      },
      "execution_count": 2,
      "outputs": [
        {
          "output_type": "stream",
          "name": "stdout",
          "text": [
            "Collecting PyPDF2\n",
            "  Downloading PyPDF2-1.26.0.tar.gz (77 kB)\n",
            "\u001b[?25l\r\u001b[K     |████▎                           | 10 kB 16.2 MB/s eta 0:00:01\r\u001b[K     |████████▌                       | 20 kB 17.1 MB/s eta 0:00:01\r\u001b[K     |████████████▊                   | 30 kB 10.2 MB/s eta 0:00:01\r\u001b[K     |█████████████████               | 40 kB 9.0 MB/s eta 0:00:01\r\u001b[K     |█████████████████████▏          | 51 kB 8.4 MB/s eta 0:00:01\r\u001b[K     |█████████████████████████▍      | 61 kB 9.1 MB/s eta 0:00:01\r\u001b[K     |█████████████████████████████▋  | 71 kB 8.8 MB/s eta 0:00:01\r\u001b[K     |████████████████████████████████| 77 kB 3.8 MB/s \n",
            "\u001b[?25hBuilding wheels for collected packages: PyPDF2\n",
            "  Building wheel for PyPDF2 (setup.py) ... \u001b[?25l\u001b[?25hdone\n",
            "  Created wheel for PyPDF2: filename=PyPDF2-1.26.0-py3-none-any.whl size=61102 sha256=7effebc50583a74ce01611a53ad5cde3cf4dcead3227bbceab3b576ff531d1fa\n",
            "  Stored in directory: /root/.cache/pip/wheels/80/1a/24/648467ade3a77ed20f35cfd2badd32134e96dd25ca811e64b3\n",
            "Successfully built PyPDF2\n",
            "Installing collected packages: PyPDF2\n",
            "Successfully installed PyPDF2-1.26.0\n"
          ]
        }
      ]
    },
    {
      "cell_type": "code",
      "source": [
        "pip install docx2txt"
      ],
      "metadata": {
        "colab": {
          "base_uri": "https://localhost:8080/"
        },
        "id": "9-k8tnTxNTT5",
        "outputId": "f6f1b9d1-53e5-457b-fb4e-c4b65d23d860"
      },
      "execution_count": 3,
      "outputs": [
        {
          "output_type": "stream",
          "name": "stdout",
          "text": [
            "Collecting docx2txt\n",
            "  Downloading docx2txt-0.8.tar.gz (2.8 kB)\n",
            "Building wheels for collected packages: docx2txt\n",
            "  Building wheel for docx2txt (setup.py) ... \u001b[?25l\u001b[?25hdone\n",
            "  Created wheel for docx2txt: filename=docx2txt-0.8-py3-none-any.whl size=3980 sha256=c0cefe9a2e6874c80b024a4b70f4c6d122d11a1de76362d350eee46ba611d187\n",
            "  Stored in directory: /root/.cache/pip/wheels/b7/20/b2/473e3aea9a0c0d3e7b2f7bd81d06d0794fec12752733d1f3a8\n",
            "Successfully built docx2txt\n",
            "Installing collected packages: docx2txt\n",
            "Successfully installed docx2txt-0.8\n"
          ]
        }
      ]
    },
    {
      "cell_type": "code",
      "source": [
        "import numpy as np\n",
        "import PyPDF2\n",
        "import docx2txt\n",
        "import sys"
      ],
      "metadata": {
        "id": "pqAYxvLBNTi3"
      },
      "execution_count": 4,
      "outputs": []
    },
    {
      "cell_type": "code",
      "source": [
        "import matplotlib.pyplot as plt\n",
        "%matplotlib inline"
      ],
      "metadata": {
        "id": "MZYlcNdgNTuZ"
      },
      "execution_count": 5,
      "outputs": []
    },
    {
      "cell_type": "code",
      "source": [
        "import networkx as nx"
      ],
      "metadata": {
        "id": "h3k8zAmrNT3t"
      },
      "execution_count": 6,
      "outputs": []
    },
    {
      "cell_type": "code",
      "source": [
        "from nltk.tokenize.punkt import PunktSentenceTokenizer"
      ],
      "metadata": {
        "id": "MORmdBOENSge"
      },
      "execution_count": 7,
      "outputs": []
    },
    {
      "cell_type": "code",
      "source": [
        "from sklearn.feature_extraction.text import TfidfTransformer, CountVectorizer"
      ],
      "metadata": {
        "id": "6TrWu9yUNgBi"
      },
      "execution_count": 8,
      "outputs": []
    },
    {
      "cell_type": "code",
      "source": [
        "# we are going to show an example of how the method is working\n",
        "# first let's take the document as an input\n",
        "def readDoc():\n",
        "    name = input('Please input a file name: ') \n",
        "    print('You have asked for the document {}'.format(name))\n",
        "\n",
        "    # now read the type of document\n",
        "    if name.lower().endswith('.txt'):\n",
        "        choice = 1\n",
        "    elif name.lower().endswith('.pdf'):\n",
        "        choice = 2\n",
        "    else:\n",
        "        choice = 3\n",
        "        # print(name)\n",
        "    print(choice)\n",
        "    # Case 1: if it is a .txt file\n",
        "        \n",
        "    if choice == 1:\n",
        "        f = open(name, 'r')\n",
        "        document = f.read()\n",
        "        f.close()\n",
        "            \n",
        "    # Case 2: if it is a .pdf file\n",
        "    elif choice == 2:\n",
        "        pdfFileObj = open(name, 'rb')\n",
        "        pdfReader = PyPDF2.PdfFileReader(pdfFileObj)\n",
        "        pageObj = pdfReader.getPage(0)\n",
        "        document = pageObj.extractText()\n",
        "        pdfFileObj.close()\n",
        "    \n",
        "    # Case 3: none of the format\n",
        "    else:\n",
        "        print('Failed to load a valid file')\n",
        "        print('Returning an empty string')\n",
        "        document = ''\n",
        "    \n",
        "    print(type(document))\n",
        "    return document"
      ],
      "metadata": {
        "id": "O7gAT8eeNgHj"
      },
      "execution_count": 9,
      "outputs": []
    },
    {
      "cell_type": "code",
      "source": [
        "# the function used for tokenizing the sentences\n",
        "# tokenization of a sentence: '''provided in cell() above'''\n",
        "\n",
        "def tokenize(document):\n",
        "    # We are tokenizing using the PunktSentenceTokenizer\n",
        "    # we call an instance of this class as sentence_tokenizer\n",
        "    doc_tokenizer = PunktSentenceTokenizer()\n",
        "    \n",
        "    # tokenize() method: takes our document as input and returns a list of all the sentences in the document\n",
        "    \n",
        "    # sentences is a list containing each sentence of the document as an element\n",
        "    sentences_list = doc_tokenizer.tokenize(document)\n",
        "    return sentences_list"
      ],
      "metadata": {
        "id": "do0u8cjwNgLe"
      },
      "execution_count": 10,
      "outputs": []
    },
    {
      "cell_type": "code",
      "source": [
        "# reading a file and \n",
        "# printing the size of the file\n",
        "document = readDoc()\n",
        "print('The length of the file is:', end=' ')\n",
        "print(len(document))"
      ],
      "metadata": {
        "colab": {
          "base_uri": "https://localhost:8080/"
        },
        "id": "blHykQHgNgPr",
        "outputId": "ed603aec-bd13-4bb0-8c62-69c661efc689"
      },
      "execution_count": 11,
      "outputs": [
        {
          "output_type": "stream",
          "name": "stdout",
          "text": [
            "Please input a file name: Persuasive Essay Free.pdf\n",
            "You have asked for the document Persuasive Essay Free.pdf\n",
            "2\n",
            "<class 'str'>\n",
            "The length of the file is: 1119\n"
          ]
        }
      ]
    },
    {
      "cell_type": "code",
      "source": [
        "# we want to tokenize the document for further processing\n",
        "# tokenizing the sentence means that we are creating a list of all the sentences of the document.\n",
        "# Need of tokenizing the document: Initially the document is in just a string format.\n",
        "# if we want to process the document, we need to store it in a data structure.\n",
        "# Tokenization of document into words is also possible, but we will go with the tokenizing with the sentences\n",
        "# Since we want to choose the most relevant sentences, we need to generate tokens of sentences only\n",
        "sentences_list = tokenize(document)\n",
        "\n",
        "# let us print the size of memory used by the list sentences\n",
        "print('The size of the list in Bytes is: {}'.format(sys.getsizeof(sentences_list)))\n",
        "\n",
        "# the size of one of the element of the list\n",
        "print('The size of the item 0 in Bytes is: {}'.format(sys.getsizeof(sentences_list[0])))"
      ],
      "metadata": {
        "colab": {
          "base_uri": "https://localhost:8080/"
        },
        "id": "ofmrCNGhNgTz",
        "outputId": "1121c62f-a040-4136-aa69-38e584f126ca"
      },
      "execution_count": 12,
      "outputs": [
        {
          "output_type": "stream",
          "name": "stdout",
          "text": [
            "The size of the list in Bytes is: 136\n",
            "The size of the item 0 in Bytes is: 453\n"
          ]
        }
      ]
    },
    {
      "cell_type": "code",
      "source": [
        "# let us see the data type of sentences_list\n",
        "# It will be list\n",
        "print(type(sentences_list))"
      ],
      "metadata": {
        "colab": {
          "base_uri": "https://localhost:8080/"
        },
        "id": "y99CXHZ5NgXm",
        "outputId": "37d2ca93-7760-4bf0-ffcf-6d4f2e016403"
      },
      "execution_count": 13,
      "outputs": [
        {
          "output_type": "stream",
          "name": "stdout",
          "text": [
            "<class 'list'>\n"
          ]
        }
      ]
    },
    {
      "cell_type": "code",
      "source": [
        "#let us analyse the elements of the sentences\n",
        "# len() method applies on the list and provides the number of elements in the list\n",
        "print('The size of the list \"sentences\" is: {}'.format(len(sentences_list)))"
      ],
      "metadata": {
        "colab": {
          "base_uri": "https://localhost:8080/"
        },
        "id": "LkntlFdiNubN",
        "outputId": "580ddeb0-4b12-4443-fda1-acd14c9819d5"
      },
      "execution_count": 14,
      "outputs": [
        {
          "output_type": "stream",
          "name": "stdout",
          "text": [
            "The size of the list \"sentences\" is: 5\n"
          ]
        }
      ]
    },
    {
      "cell_type": "code",
      "source": [
        "# print the elements of the list\n",
        "# If the input document is long, which on realistically will be wrong, we would not like to print the entire document\n",
        "for i in sentences_list:\n",
        "    print(i)"
      ],
      "metadata": {
        "colab": {
          "base_uri": "https://localhost:8080/"
        },
        "id": "63ZcvuVZNugE",
        "outputId": "0041154e-9fe5-48da-fdab-3cf00cb5c72a"
      },
      "execution_count": 15,
      "outputs": [
        {
          "output_type": "stream",
          "name": "stdout",
          "text": [
            "Persuasive Essays\n",
            " \n",
            " \n",
            " \n",
            " \n",
            " \n",
            "Class: Written Communication DAS 177, Fall 2008;\n",
            " \n",
            "Teacher: Natalie Schiedler\n",
            " \n",
            " \n",
            " \n",
            " \n",
            " \n",
            "Author: \n",
            "Patrizia De Cillis\n",
            " \n",
            " \n",
            "Traveling is one of the most valuable and enriching experiences in our lives \n",
            "increasing our knowledge, opening our minds, enric\n",
            "hing our spirits, extending new moral \n",
            "values; and you can find many destinations in the world that would fulfill your desires.\n",
            "But, if what you are looking for is a unique and memorable experience that will give you \n",
            "the opportunity to learn about another c\n",
            "ulture through art, cultural events, historical cites, \n",
            "and archeological treasures, a place to visit is certainly Italy.\n",
            "Among many places in the \n",
            "world w\n",
            "h\n",
            "ere you can relive the past, Italy is certainly the most \n",
            "charming place\n",
            ".\n",
            "This little \n",
            "country in \n",
            "the mi\n",
            "ddle of the Mediterranean\n",
            " \n",
            "represents the cradle of the Roman Empire \n",
            "and the Renaissance, and offers an incredible number of opportunities for \n",
            "people\n",
            " \n",
            "eager to \n",
            "learn about\n",
            " \n",
            "an ancient civilization that shaped\n",
            " \n",
            "the history of many cultures.\n",
            "Moreover, \n",
            "\n",
            " \n",
            "\n",
            "United Nations Educational, Scientific and Cultural\n"
          ]
        }
      ]
    },
    {
      "cell_type": "code",
      "source": [
        "# Convert a collection of text documents to a matrix of token counts\n",
        "# fit_transform method of CountVectorizer() class \n",
        "# Learn the vocabulary dictionary and return term-document matrix. \n",
        "# I/p: An iterable which yields either str, unicode or file objects.\n",
        "# O/p: The term-document matrix named cv_matrix\n",
        "cv = CountVectorizer()\n",
        "cv_matrix = cv.fit_transform(sentences_list)"
      ],
      "metadata": {
        "id": "BdkFRo-lNui3"
      },
      "execution_count": 16,
      "outputs": []
    },
    {
      "cell_type": "code",
      "source": [
        "# printing the cv_matrix type\n",
        "# and how it is being stored in memory?\n",
        "# it is stored in the compressed row format\n",
        "# compressed row format: \n",
        "print('The data type of bow matrix {}'.format(type(cv_matrix)))\n",
        "print('Shape of the matrix {}'.format(cv_matrix.get_shape))\n",
        "print('Size of the matrix is: {}'.format(sys.getsizeof(cv_matrix)))\n",
        "print(cv.get_feature_names())\n",
        "print(cv_matrix.toarray())"
      ],
      "metadata": {
        "colab": {
          "base_uri": "https://localhost:8080/"
        },
        "id": "gjjgZ-jmNumK",
        "outputId": "3d441a8a-2bdd-465c-fb5e-8cf63722bcca"
      },
      "execution_count": 17,
      "outputs": [
        {
          "output_type": "stream",
          "name": "stdout",
          "text": [
            "The data type of bow matrix <class 'scipy.sparse.csr.csr_matrix'>\n",
            "Shape of the matrix <bound method spmatrix.get_shape of <5x114 sparse matrix of type '<class 'numpy.int64'>'\n",
            "\twith 142 stored elements in Compressed Sparse Row format>>\n",
            "Size of the matrix is: 64\n",
            "['177', '2008', 'about', 'among', 'an', 'ancient', 'and', 'another', 'archeological', 'are', 'art', 'author', 'but', 'can', 'certainly', 'charming', 'cillis', 'cites', 'civilization', 'class', 'communication', 'country', 'cradle', 'cultural', 'cultures', 'das', 'ddle', 'de', 'desires', 'destinations', 'eager', 'educational', 'empire', 'enric', 'enriching', 'ere', 'essays', 'events', 'experience', 'experiences', 'extending', 'fall', 'find', 'for', 'fulfill', 'give', 'hing', 'historical', 'history', 'if', 'in', 'increasing', 'incredible', 'is', 'italy', 'knowledge', 'learn', 'little', 'lives', 'looking', 'many', 'mediterranean', 'memorable', 'mi', 'minds', 'moral', 'moreover', 'most', 'natalie', 'nations', 'new', 'number', 'of', 'offers', 'one', 'opening', 'opportunities', 'opportunity', 'our', 'past', 'patrizia', 'people', 'persuasive', 'place', 'places', 'relive', 'renaissance', 'represents', 'roman', 'schiedler', 'scientific', 'shaped', 'spirits', 'teacher', 'that', 'the', 'this', 'through', 'to', 'traveling', 'treasures', 'ulture', 'unique', 'united', 'valuable', 'values', 'visit', 'what', 'will', 'world', 'would', 'written', 'you', 'your']\n",
            "[[1 1 0 0 0 0 2 0 0 0 0 1 0 1 0 0 1 0 0 1 1 0 0 0 0 1 0 1 1 1 0 0 0 1 1 0\n",
            "  1 0 0 1 1 1 1 0 1 0 1 0 0 0 2 1 0 1 0 1 0 0 1 0 1 0 0 0 1 1 0 1 1 0 1 0\n",
            "  1 0 1 1 0 0 4 0 1 0 1 0 0 0 0 0 0 1 0 0 1 1 1 2 0 0 0 1 0 0 0 0 1 1 0 0\n",
            "  0 1 1 1 1 1]\n",
            " [0 0 1 0 0 0 2 1 1 1 1 0 1 0 1 0 0 1 0 0 0 0 0 1 0 0 0 0 0 0 0 0 0 0 0 0\n",
            "  0 1 1 0 0 0 0 1 0 1 0 1 0 1 0 0 0 2 1 0 1 0 0 1 0 0 1 0 0 0 0 0 0 0 0 0\n",
            "  0 0 0 0 0 1 0 0 0 0 0 1 0 0 0 0 0 0 0 0 0 0 1 1 0 1 2 0 1 1 1 0 0 0 1 1\n",
            "  1 0 0 0 2 0]\n",
            " [0 0 0 1 0 0 0 0 0 0 0 0 0 1 1 1 0 0 0 0 0 0 0 0 0 0 0 0 0 0 0 0 0 0 0 1\n",
            "  0 0 0 0 0 0 0 0 0 0 0 0 0 0 1 0 0 1 1 0 0 0 0 0 1 0 0 0 0 0 0 1 0 0 0 0\n",
            "  0 0 0 0 0 0 0 1 0 0 0 1 1 1 0 0 0 0 0 0 0 0 0 3 0 0 0 0 0 0 0 0 0 0 0 0\n",
            "  0 1 0 0 1 0]\n",
            " [0 0 1 0 2 1 2 0 0 0 0 0 0 0 0 0 0 0 1 0 0 1 1 0 1 0 1 0 0 0 1 0 1 0 0 0\n",
            "  0 0 0 0 0 0 0 1 0 0 0 0 1 0 1 0 1 0 0 0 1 1 0 0 1 1 0 1 0 0 0 0 0 0 0 1\n",
            "  4 1 0 0 1 0 0 0 0 1 0 0 0 0 1 1 1 0 0 1 0 0 1 6 1 0 1 0 0 0 0 0 0 0 0 0\n",
            "  0 0 0 0 0 0]\n",
            " [0 0 0 0 0 0 1 0 0 0 0 0 0 0 0 0 0 0 0 0 0 0 0 1 0 0 0 0 0 0 0 1 0 0 0 0\n",
            "  0 0 0 0 0 0 0 0 0 0 0 0 0 0 0 0 0 0 0 0 0 0 0 0 0 0 0 0 0 0 1 0 0 1 0 0\n",
            "  0 0 0 0 0 0 0 0 0 0 0 0 0 0 0 0 0 0 1 0 0 0 0 0 0 0 0 0 0 0 0 1 0 0 0 0\n",
            "  0 0 0 0 0 0]]\n"
          ]
        },
        {
          "output_type": "stream",
          "name": "stderr",
          "text": [
            "FutureWarning: Function get_feature_names is deprecated; get_feature_names is deprecated in 1.0 and will be removed in 1.2. Please use get_feature_names_out instead. [deprecation.py:87]\n"
          ]
        }
      ]
    },
    {
      "cell_type": "code",
      "source": [
        "# Tnormalized: document-term matrix normalized (value 0-1) according to the TF-IDF\n",
        "# TF(Term Frequency): the no. of times a term(a word here) appears in the current document(single sentence here)\n",
        "# IDF(Inverse Document Frequency): the no. of times a term(a word here) appears in the entire corpus\n",
        "# Corpus: set of all sentences\n",
        "\n",
        "normal_matrix = TfidfTransformer().fit_transform(cv_matrix)\n",
        "print(normal_matrix.toarray())"
      ],
      "metadata": {
        "colab": {
          "base_uri": "https://localhost:8080/"
        },
        "id": "AH0hMqJwN7g0",
        "outputId": "8afb01d1-56a4-4b9a-d043-5e76592057ec"
      },
      "execution_count": 18,
      "outputs": [
        {
          "output_type": "stream",
          "name": "stdout",
          "text": [
            "[[0.12526355 0.12526355 0.         0.         0.         0.\n",
            "  0.1411426  0.         0.         0.         0.         0.12526355\n",
            "  0.         0.10106185 0.         0.         0.12526355 0.\n",
            "  0.         0.12526355 0.12526355 0.         0.         0.\n",
            "  0.         0.12526355 0.         0.12526355 0.12526355 0.12526355\n",
            "  0.         0.         0.         0.12526355 0.12526355 0.\n",
            "  0.12526355 0.         0.         0.12526355 0.12526355 0.12526355\n",
            "  0.12526355 0.         0.12526355 0.         0.12526355 0.\n",
            "  0.         0.         0.16778092 0.12526355 0.         0.08389046\n",
            "  0.         0.12526355 0.         0.         0.12526355 0.\n",
            "  0.08389046 0.         0.         0.         0.12526355 0.12526355\n",
            "  0.         0.10106185 0.12526355 0.         0.12526355 0.\n",
            "  0.10106185 0.         0.12526355 0.12526355 0.         0.\n",
            "  0.50105421 0.         0.12526355 0.         0.12526355 0.\n",
            "  0.         0.         0.         0.         0.         0.12526355\n",
            "  0.         0.         0.12526355 0.12526355 0.08389046 0.1411426\n",
            "  0.         0.         0.         0.12526355 0.         0.\n",
            "  0.         0.         0.12526355 0.12526355 0.         0.\n",
            "  0.         0.10106185 0.12526355 0.12526355 0.08389046 0.12526355]\n",
            " [0.         0.         0.13880621 0.         0.         0.\n",
            "  0.19385624 0.17204672 0.17204672 0.17204672 0.17204672 0.\n",
            "  0.17204672 0.         0.13880621 0.         0.         0.17204672\n",
            "  0.         0.         0.         0.         0.         0.13880621\n",
            "  0.         0.         0.         0.         0.         0.\n",
            "  0.         0.         0.         0.         0.         0.\n",
            "  0.         0.17204672 0.17204672 0.         0.         0.\n",
            "  0.         0.13880621 0.         0.17204672 0.         0.17204672\n",
            "  0.         0.17204672 0.         0.         0.         0.23044339\n",
            "  0.13880621 0.         0.13880621 0.         0.         0.17204672\n",
            "  0.         0.         0.17204672 0.         0.         0.\n",
            "  0.         0.         0.         0.         0.         0.\n",
            "  0.         0.         0.         0.         0.         0.17204672\n",
            "  0.         0.         0.         0.         0.         0.13880621\n",
            "  0.         0.         0.         0.         0.         0.\n",
            "  0.         0.         0.         0.         0.11522169 0.09692812\n",
            "  0.         0.17204672 0.27761242 0.         0.17204672 0.17204672\n",
            "  0.17204672 0.         0.         0.         0.17204672 0.17204672\n",
            "  0.17204672 0.         0.         0.         0.23044339 0.        ]\n",
            " [0.         0.         0.         0.26210586 0.         0.\n",
            "  0.         0.         0.         0.         0.         0.\n",
            "  0.         0.21146536 0.21146536 0.26210586 0.         0.\n",
            "  0.         0.         0.         0.         0.         0.\n",
            "  0.         0.         0.         0.         0.         0.\n",
            "  0.         0.         0.         0.         0.         0.26210586\n",
            "  0.         0.         0.         0.         0.         0.\n",
            "  0.         0.         0.         0.         0.         0.\n",
            "  0.         0.         0.17553535 0.         0.         0.17553535\n",
            "  0.21146536 0.         0.         0.         0.         0.\n",
            "  0.17553535 0.         0.         0.         0.         0.\n",
            "  0.         0.21146536 0.         0.         0.         0.\n",
            "  0.         0.         0.         0.         0.         0.\n",
            "  0.         0.26210586 0.         0.         0.         0.21146536\n",
            "  0.26210586 0.26210586 0.         0.         0.         0.\n",
            "  0.         0.         0.         0.         0.         0.44299761\n",
            "  0.         0.         0.         0.         0.         0.\n",
            "  0.         0.         0.         0.         0.         0.\n",
            "  0.         0.21146536 0.         0.         0.17553535 0.        ]\n",
            " [0.         0.         0.11075911 0.         0.27456612 0.13728306\n",
            "  0.15468576 0.         0.         0.         0.         0.\n",
            "  0.         0.         0.         0.         0.         0.\n",
            "  0.13728306 0.         0.         0.13728306 0.13728306 0.\n",
            "  0.13728306 0.         0.13728306 0.         0.         0.\n",
            "  0.13728306 0.         0.13728306 0.         0.         0.\n",
            "  0.         0.         0.         0.         0.         0.\n",
            "  0.         0.11075911 0.         0.         0.         0.\n",
            "  0.13728306 0.         0.09194007 0.         0.13728306 0.\n",
            "  0.         0.         0.11075911 0.13728306 0.         0.\n",
            "  0.09194007 0.13728306 0.         0.13728306 0.         0.\n",
            "  0.         0.         0.         0.         0.         0.13728306\n",
            "  0.44303644 0.13728306 0.         0.         0.13728306 0.\n",
            "  0.         0.         0.         0.13728306 0.         0.\n",
            "  0.         0.         0.13728306 0.13728306 0.13728306 0.\n",
            "  0.         0.13728306 0.         0.         0.09194007 0.46405729\n",
            "  0.13728306 0.         0.11075911 0.         0.         0.\n",
            "  0.         0.         0.         0.         0.         0.\n",
            "  0.         0.         0.         0.         0.         0.        ]\n",
            " [0.         0.         0.         0.         0.         0.\n",
            "  0.23060966 0.         0.         0.         0.         0.\n",
            "  0.         0.         0.         0.         0.         0.\n",
            "  0.         0.         0.         0.         0.         0.33024526\n",
            "  0.         0.         0.         0.         0.         0.\n",
            "  0.         0.40933049 0.         0.         0.         0.\n",
            "  0.         0.         0.         0.         0.         0.\n",
            "  0.         0.         0.         0.         0.         0.\n",
            "  0.         0.         0.         0.         0.         0.\n",
            "  0.         0.         0.         0.         0.         0.\n",
            "  0.         0.         0.         0.         0.         0.\n",
            "  0.40933049 0.         0.         0.40933049 0.         0.\n",
            "  0.         0.         0.         0.         0.         0.\n",
            "  0.         0.         0.         0.         0.         0.\n",
            "  0.         0.         0.         0.         0.         0.\n",
            "  0.40933049 0.         0.         0.         0.         0.\n",
            "  0.         0.         0.         0.         0.         0.\n",
            "  0.         0.40933049 0.         0.         0.         0.\n",
            "  0.         0.         0.         0.         0.         0.        ]]\n"
          ]
        }
      ]
    },
    {
      "cell_type": "code",
      "source": [
        "print(normal_matrix.T.toarray)\n",
        "res_graph = normal_matrix * normal_matrix.T\n",
        "# plt.spy(res_graph)"
      ],
      "metadata": {
        "colab": {
          "base_uri": "https://localhost:8080/"
        },
        "id": "AK71sACSN7lR",
        "outputId": "47e32508-16f1-4aff-8596-da0df811195c"
      },
      "execution_count": 19,
      "outputs": [
        {
          "output_type": "stream",
          "name": "stdout",
          "text": [
            "<bound method _cs_matrix.toarray of <114x5 sparse matrix of type '<class 'numpy.float64'>'\n",
            "\twith 142 stored elements in Compressed Sparse Column format>>\n"
          ]
        }
      ]
    },
    {
      "cell_type": "code",
      "source": [
        "# drawing a graph to proceed for the textrank algorithm\n",
        "# nx_graph is a graph developed using the networkx library\n",
        "# each node represents a sentence\n",
        "# an edge represents that they have words in common\n",
        "# the edge weight is the number of words that are common in both of the sentences(nodes)\n",
        "# nx.draw() method is used to draw the graph created\n",
        "\n",
        "nx_graph = nx.from_scipy_sparse_matrix(res_graph)\n",
        "nx.draw_circular(nx_graph)\n",
        "print('Number of edges {}'.format(nx_graph.number_of_edges()))\n",
        "print('Number of vertices {}'.format(nx_graph.number_of_nodes()))\n",
        "plt.show()\n",
        "print('The memory used by the graph in Bytes is: {}'.format(sys.getsizeof(nx_graph)))"
      ],
      "metadata": {
        "colab": {
          "base_uri": "https://localhost:8080/",
          "height": 371
        },
        "id": "pepr-CNyN7qZ",
        "outputId": "51a6649e-24ef-4c60-81b9-2cce89990044"
      },
      "execution_count": 20,
      "outputs": [
        {
          "output_type": "stream",
          "name": "stdout",
          "text": [
            "Number of edges 14\n",
            "Number of vertices 5\n"
          ]
        },
        {
          "output_type": "display_data",
          "data": {
            "image/png": "[encoded data removed]",
            "text/plain": [
              "<Figure size 432x288 with 1 Axes>"
            ]
          },
          "metadata": {}
        },
        {
          "output_type": "stream",
          "name": "stdout",
          "text": [
            "The memory used by the graph in Bytes is: 64\n"
          ]
        }
      ]
    },
    {
      "cell_type": "code",
      "source": [
        "# ranks is a dictionary with key=node(sentences) and value=textrank (the rank of each of the sentences)\n",
        "ranks = nx.pagerank(nx_graph)\n",
        "\n",
        "# analyse the data type of ranks\n",
        "print(type(ranks))\n",
        "print('The size used by the dictionary in Bytes is: {}'.format(sys.getsizeof(ranks)))\n",
        "\n",
        "# print the dictionary\n",
        "for i in ranks:\n",
        "    print(i, ranks[i])"
      ],
      "metadata": {
        "colab": {
          "base_uri": "https://localhost:8080/"
        },
        "id": "OPlmyMo3N7uO",
        "outputId": "372f276c-f9a2-4f52-81dd-b05543c29113"
      },
      "execution_count": 21,
      "outputs": [
        {
          "output_type": "stream",
          "name": "stdout",
          "text": [
            "<class 'dict'>\n",
            "The size used by the dictionary in Bytes is: 248\n",
            "0 0.19664516343126567\n",
            "1 0.20516720058174293\n",
            "2 0.21149968179093026\n",
            "3 0.20745575588104473\n",
            "4 0.17923219831501608\n"
          ]
        }
      ]
    },
    {
      "cell_type": "code",
      "source": [
        "# enumerate method: returns an enumerate object\n",
        "# Use of list Comprehensions\n",
        "# O/p: sentence_array is the sorted(descending order w.r.t. score value) 2-d array of ranks[sentence] and sentence \n",
        "# For example, if there are two sentences: S1 (with a score of S1 = s1) and S2 with score s2, with s2>s1\n",
        "# then sentence_array is [[s2, S2], [s1, S1]]\n",
        "sentence_array = sorted(((ranks[i], s) for i, s in enumerate(sentences_list)), reverse=True)\n",
        "sentence_array = np.asarray(sentence_array)"
      ],
      "metadata": {
        "id": "kymG2SyYOGhi"
      },
      "execution_count": 22,
      "outputs": []
    },
    {
      "cell_type": "code",
      "source": [
        "# as sentence_array is in descending order wrt score value\n",
        "# fmax is the largest score value(the score of first element)\n",
        "# fmin is the smallest score value(the score of last element)\n",
        "\n",
        "rank_max = float(sentence_array[0][0])\n",
        "rank_min = float(sentence_array[len(sentence_array) - 1][0])"
      ],
      "metadata": {
        "id": "2IDq-Es2OGlL"
      },
      "execution_count": 23,
      "outputs": []
    },
    {
      "cell_type": "code",
      "source": [
        "# print the largest and smallest value of scores of the sentence\n",
        "print(rank_max)\n",
        "print(rank_min)"
      ],
      "metadata": {
        "colab": {
          "base_uri": "https://localhost:8080/"
        },
        "id": "UPcY2z7XOKiw",
        "outputId": "6da2e2bb-305b-4f43-a497-7ef4ffeb9f63"
      },
      "execution_count": 24,
      "outputs": [
        {
          "output_type": "stream",
          "name": "stdout",
          "text": [
            "0.21149968179093026\n",
            "0.17923219831501608\n"
          ]
        }
      ]
    },
    {
      "cell_type": "code",
      "source": [
        "# Normalization of the scores\n",
        "# so that it comes out in the range 0-1\n",
        "# fmax becomes 1\n",
        "# fmin becomes 0\n",
        "# store the normalized values in the list temp_array\n",
        "\n",
        "temp_array = []\n",
        "\n",
        "# if all sentences have equal ranks, means they are all the same\n",
        "# taking any sentence will give the summary, say the first sentence\n",
        "flag = 0\n",
        "if rank_max - rank_min == 0:\n",
        "    temp_array.append(0)\n",
        "    flag = 1\n",
        "\n",
        "# If the sentence has different ranks\n",
        "if flag != 1:\n",
        "    for i in range(0, len(sentence_array)):\n",
        "        temp_array.append((float(sentence_array[i][0]) - rank_min) / (rank_max - rank_min))\n",
        "\n",
        "print(len(temp_array))"
      ],
      "metadata": {
        "colab": {
          "base_uri": "https://localhost:8080/"
        },
        "id": "I7Gis3rXOKqB",
        "outputId": "58b47a84-3125-4c8a-9ec6-646097b2238b"
      },
      "execution_count": 25,
      "outputs": [
        {
          "output_type": "stream",
          "name": "stdout",
          "text": [
            "5\n"
          ]
        }
      ]
    },
    {
      "cell_type": "code",
      "source": [
        "# Calculation of threshold:\n",
        "# We take the mean value of normalized scores\n",
        "# any sentence with the normalized score 0.2 more than the mean value is considered to be \n",
        "threshold = (sum(temp_array) / len(temp_array)) + 0.2"
      ],
      "metadata": {
        "id": "jKlh710hORcg"
      },
      "execution_count": 26,
      "outputs": []
    },
    {
      "cell_type": "code",
      "source": [
        "# Separate out the sentences that satiasfy the criteria of having a score above the threshold\n",
        "sentence_list = []\n",
        "if len(temp_array) > 1:\n",
        "    for i in range(0, len(temp_array)):\n",
        "        if temp_array[i] > threshold:\n",
        "                sentence_list.append(sentence_array[i][1])\n",
        "else:\n",
        "    sentence_list.append(sentence_array[0][1])"
      ],
      "metadata": {
        "id": "NIG55NMGNupv"
      },
      "execution_count": 27,
      "outputs": []
    },
    {
      "cell_type": "code",
      "source": [
        "model = sentence_list"
      ],
      "metadata": {
        "id": "jO78NxY-OWKp"
      },
      "execution_count": 28,
      "outputs": []
    },
    {
      "cell_type": "code",
      "source": [
        "# print(sentence_list)\n",
        "summary = \" \".join(str(x) for x in sentence_list)\n",
        "print(summary)\n",
        "# save the data in another file, names sum.txt\n",
        "f = open('final3.txt', 'a+')\n",
        "#print(type(f))\n",
        "f.write('\\n')\n",
        "f.write(summary)\n",
        "f.close"
      ],
      "metadata": {
        "colab": {
          "base_uri": "https://localhost:8080/"
        },
        "id": "V-AP2iEpOYF6",
        "outputId": "0a43b2ff-f4cc-4899-9b83-43136c1fc9e2"
      },
      "execution_count": 29,
      "outputs": [
        {
          "output_type": "stream",
          "name": "stdout",
          "text": [
            "Among many places in the \n",
            "world w\n",
            "h\n",
            "ere you can relive the past, Italy is certainly the most \n",
            "charming place\n",
            ". This little \n",
            "country in \n",
            "the mi\n",
            "ddle of the Mediterranean\n",
            " \n",
            "represents the cradle of the Roman Empire \n",
            "and the Renaissance, and offers an incredible number of opportunities for \n",
            "people\n",
            " \n",
            "eager to \n",
            "learn about\n",
            " \n",
            "an ancient civilization that shaped\n",
            " \n",
            "the history of many cultures.\n"
          ]
        },
        {
          "output_type": "execute_result",
          "data": {
            "text/plain": [
              "<function TextIOWrapper.close>"
            ]
          },
          "metadata": {},
          "execution_count": 29
        }
      ]
    },
    {
      "cell_type": "code",
      "source": [
        "for lines in sentence_list:\n",
        "    print(lines)"
      ],
      "metadata": {
        "colab": {
          "base_uri": "https://localhost:8080/"
        },
        "id": "6lfZiu4OOdi0",
        "outputId": "db4080cd-7e06-436d-993d-39a7d93d9311"
      },
      "execution_count": 30,
      "outputs": [
        {
          "output_type": "stream",
          "name": "stdout",
          "text": [
            "Among many places in the \n",
            "world w\n",
            "h\n",
            "ere you can relive the past, Italy is certainly the most \n",
            "charming place\n",
            ".\n",
            "This little \n",
            "country in \n",
            "the mi\n",
            "ddle of the Mediterranean\n",
            " \n",
            "represents the cradle of the Roman Empire \n",
            "and the Renaissance, and offers an incredible number of opportunities for \n",
            "people\n",
            " \n",
            "eager to \n",
            "learn about\n",
            " \n",
            "an ancient civilization that shaped\n",
            " \n",
            "the history of many cultures.\n"
          ]
        }
      ]
    },
    {
      "cell_type": "markdown",
      "source": [
        "EVALUATION USING ROUGE"
      ],
      "metadata": {
        "id": "L3ZuY18EOhr5"
      }
    },
    {
      "cell_type": "code",
      "source": [
        "pip install git+https://github.com/tagucci/pythonrouge.git"
      ],
      "metadata": {
        "colab": {
          "base_uri": "https://localhost:8080/"
        },
        "id": "JHFD6Qp7Si6Q",
        "outputId": "25c866c2-4ea9-4ebf-e664-f0b918f62352"
      },
      "execution_count": 31,
      "outputs": [
        {
          "output_type": "stream",
          "name": "stdout",
          "text": [
            "Collecting git+https://github.com/tagucci/pythonrouge.git\n",
            "  Cloning https://github.com/tagucci/pythonrouge.git to /tmp/pip-req-build-ym6m0trc\n",
            "  Running command git clone -q https://github.com/tagucci/pythonrouge.git /tmp/pip-req-build-ym6m0trc\n",
            "Building wheels for collected packages: pythonrouge\n",
            "  Building wheel for pythonrouge (setup.py) ... \u001b[?25l\u001b[?25hdone\n",
            "  Created wheel for pythonrouge: filename=pythonrouge-0.2-py3-none-any.whl size=285408 sha256=21b99709fd9d5926a7accfa8f9cf02517c9118a9eac4141d4147f436703a6904\n",
            "  Stored in directory: /tmp/pip-ephem-wheel-cache-dwn2v1hx/wheels/f2/28/1a/47e2c73d5e7d1d49296a991e19d774c97e4c2e98dbf027a515\n",
            "Successfully built pythonrouge\n",
            "Installing collected packages: pythonrouge\n",
            "Successfully installed pythonrouge-0.2\n"
          ]
        }
      ]
    },
    {
      "cell_type": "code",
      "source": [
        "!pip install rouge"
      ],
      "metadata": {
        "colab": {
          "base_uri": "https://localhost:8080/"
        },
        "id": "qbGOHV4dOmRZ",
        "outputId": "ff776f67-5404-4624-eaa6-4fa9d69d75d8"
      },
      "execution_count": 32,
      "outputs": [
        {
          "output_type": "stream",
          "name": "stdout",
          "text": [
            "Collecting rouge\n",
            "  Downloading rouge-1.0.1-py3-none-any.whl (13 kB)\n",
            "Requirement already satisfied: six in /usr/local/lib/python3.7/dist-packages (from rouge) (1.15.0)\n",
            "Installing collected packages: rouge\n",
            "Successfully installed rouge-1.0.1\n"
          ]
        }
      ]
    },
    {
      "cell_type": "code",
      "source": [
        "!pip install pythonrouge"
      ],
      "metadata": {
        "colab": {
          "base_uri": "https://localhost:8080/"
        },
        "id": "dTirtuNxOxUq",
        "outputId": "f1058d97-a35e-45cb-d941-89b429da3547"
      },
      "execution_count": 33,
      "outputs": [
        {
          "output_type": "stream",
          "name": "stdout",
          "text": [
            "Requirement already satisfied: pythonrouge in /usr/local/lib/python3.7/dist-packages (0.2)\n"
          ]
        }
      ]
    },
    {
      "cell_type": "code",
      "source": [
        "!pip install rouge-score"
      ],
      "metadata": {
        "id": "LQsd0G0H8-Im",
        "outputId": "8bd5c9ca-592e-4366-f377-d1a27b1254f4",
        "colab": {
          "base_uri": "https://localhost:8080/"
        }
      },
      "execution_count": 38,
      "outputs": [
        {
          "output_type": "stream",
          "name": "stdout",
          "text": [
            "Collecting rouge-score\n",
            "  Downloading rouge_score-0.0.4-py2.py3-none-any.whl (22 kB)\n",
            "Requirement already satisfied: numpy in /usr/local/lib/python3.7/dist-packages (from rouge-score) (1.19.5)\n",
            "Requirement already satisfied: absl-py in /usr/local/lib/python3.7/dist-packages (from rouge-score) (1.0.0)\n",
            "Requirement already satisfied: nltk in /usr/local/lib/python3.7/dist-packages (from rouge-score) (3.2.5)\n",
            "Requirement already satisfied: six>=1.14.0 in /usr/local/lib/python3.7/dist-packages (from rouge-score) (1.15.0)\n",
            "Installing collected packages: rouge-score\n",
            "Successfully installed rouge-score-0.0.4\n"
          ]
        }
      ]
    },
    {
      "cell_type": "code",
      "source": [
        "# model_out = [sentence_list]\n",
        "# reference =[document]\n",
        "# rouge = Rouge()\n",
        "# rouge.get_scores(model_out,reference)\n",
        "# score = rouge(article_text,summary)\n",
        "# print(scores)\n",
        "# from rouge_score import rouge_scorer\n",
        "\n",
        "# scorer = rouge_scorer.RougeScorer(['rouge1', 'rougeL'], use_stemmer=True)\n",
        "# scores = scorer.score(document,sentence_list)"
      ],
      "metadata": {
        "colab": {
          "base_uri": "https://localhost:8080/",
          "height": 346
        },
        "id": "vO44wdbWO1DD",
        "outputId": "702ed3ca-0c63-4fe5-e3f7-5bc29b2d6a1c"
      },
      "execution_count": 43,
      "outputs": [
        {
          "output_type": "error",
          "ename": "AttributeError",
          "evalue": "ignored",
          "traceback": [
            "\u001b[0;31m---------------------------------------------------------------------------\u001b[0m",
            "\u001b[0;31mAttributeError\u001b[0m                            Traceback (most recent call last)",
            "\u001b[0;32m<ipython-input-43-70a0625a2895>\u001b[0m in \u001b[0;36m<module>\u001b[0;34m()\u001b[0m\n\u001b[1;32m      8\u001b[0m \u001b[0;34m\u001b[0m\u001b[0m\n\u001b[1;32m      9\u001b[0m \u001b[0mscorer\u001b[0m \u001b[0;34m=\u001b[0m \u001b[0mrouge_scorer\u001b[0m\u001b[0;34m.\u001b[0m\u001b[0mRougeScorer\u001b[0m\u001b[0;34m(\u001b[0m\u001b[0;34m[\u001b[0m\u001b[0;34m'rouge1'\u001b[0m\u001b[0;34m,\u001b[0m \u001b[0;34m'rougeL'\u001b[0m\u001b[0;34m]\u001b[0m\u001b[0;34m,\u001b[0m \u001b[0muse_stemmer\u001b[0m\u001b[0;34m=\u001b[0m\u001b[0;32mTrue\u001b[0m\u001b[0;34m)\u001b[0m\u001b[0;34m\u001b[0m\u001b[0;34m\u001b[0m\u001b[0m\n\u001b[0;32m---> 10\u001b[0;31m \u001b[0mscores\u001b[0m \u001b[0;34m=\u001b[0m \u001b[0mscorer\u001b[0m\u001b[0;34m.\u001b[0m\u001b[0mscore\u001b[0m\u001b[0;34m(\u001b[0m\u001b[0mdocument\u001b[0m\u001b[0;34m,\u001b[0m\u001b[0msentence_list\u001b[0m\u001b[0;34m)\u001b[0m\u001b[0;34m\u001b[0m\u001b[0;34m\u001b[0m\u001b[0m\n\u001b[0m",
            "\u001b[0;32m/usr/local/lib/python3.7/dist-packages/rouge_score/rouge_scorer.py\u001b[0m in \u001b[0;36mscore\u001b[0;34m(self, target, prediction)\u001b[0m\n\u001b[1;32m     87\u001b[0m \u001b[0;34m\u001b[0m\u001b[0m\n\u001b[1;32m     88\u001b[0m     \u001b[0mtarget_tokens\u001b[0m \u001b[0;34m=\u001b[0m \u001b[0mtokenize\u001b[0m\u001b[0;34m.\u001b[0m\u001b[0mtokenize\u001b[0m\u001b[0;34m(\u001b[0m\u001b[0mtarget\u001b[0m\u001b[0;34m,\u001b[0m \u001b[0mself\u001b[0m\u001b[0;34m.\u001b[0m\u001b[0m_stemmer\u001b[0m\u001b[0;34m)\u001b[0m\u001b[0;34m\u001b[0m\u001b[0;34m\u001b[0m\u001b[0m\n\u001b[0;32m---> 89\u001b[0;31m     \u001b[0mprediction_tokens\u001b[0m \u001b[0;34m=\u001b[0m \u001b[0mtokenize\u001b[0m\u001b[0;34m.\u001b[0m\u001b[0mtokenize\u001b[0m\u001b[0;34m(\u001b[0m\u001b[0mprediction\u001b[0m\u001b[0;34m,\u001b[0m \u001b[0mself\u001b[0m\u001b[0;34m.\u001b[0m\u001b[0m_stemmer\u001b[0m\u001b[0;34m)\u001b[0m\u001b[0;34m\u001b[0m\u001b[0;34m\u001b[0m\u001b[0m\n\u001b[0m\u001b[1;32m     90\u001b[0m     \u001b[0mresult\u001b[0m \u001b[0;34m=\u001b[0m \u001b[0;34m{\u001b[0m\u001b[0;34m}\u001b[0m\u001b[0;34m\u001b[0m\u001b[0;34m\u001b[0m\u001b[0m\n\u001b[1;32m     91\u001b[0m \u001b[0;34m\u001b[0m\u001b[0m\n",
            "\u001b[0;32m/usr/local/lib/python3.7/dist-packages/rouge_score/tokenize.py\u001b[0m in \u001b[0;36mtokenize\u001b[0;34m(text, stemmer)\u001b[0m\n\u001b[1;32m     40\u001b[0m \u001b[0;34m\u001b[0m\u001b[0m\n\u001b[1;32m     41\u001b[0m   \u001b[0;31m# Convert everything to lowercase.\u001b[0m\u001b[0;34m\u001b[0m\u001b[0;34m\u001b[0m\u001b[0;34m\u001b[0m\u001b[0m\n\u001b[0;32m---> 42\u001b[0;31m   \u001b[0mtext\u001b[0m \u001b[0;34m=\u001b[0m \u001b[0mtext\u001b[0m\u001b[0;34m.\u001b[0m\u001b[0mlower\u001b[0m\u001b[0;34m(\u001b[0m\u001b[0;34m)\u001b[0m\u001b[0;34m\u001b[0m\u001b[0;34m\u001b[0m\u001b[0m\n\u001b[0m\u001b[1;32m     43\u001b[0m   \u001b[0;31m# Replace any non-alpha-numeric characters with spaces.\u001b[0m\u001b[0;34m\u001b[0m\u001b[0;34m\u001b[0m\u001b[0;34m\u001b[0m\u001b[0m\n\u001b[1;32m     44\u001b[0m   \u001b[0mtext\u001b[0m \u001b[0;34m=\u001b[0m \u001b[0mre\u001b[0m\u001b[0;34m.\u001b[0m\u001b[0msub\u001b[0m\u001b[0;34m(\u001b[0m\u001b[0;34mr\"[^a-z0-9]+\"\u001b[0m\u001b[0;34m,\u001b[0m \u001b[0;34m\" \"\u001b[0m\u001b[0;34m,\u001b[0m \u001b[0msix\u001b[0m\u001b[0;34m.\u001b[0m\u001b[0mensure_str\u001b[0m\u001b[0;34m(\u001b[0m\u001b[0mtext\u001b[0m\u001b[0;34m)\u001b[0m\u001b[0;34m)\u001b[0m\u001b[0;34m\u001b[0m\u001b[0;34m\u001b[0m\u001b[0m\n",
            "\u001b[0;31mAttributeError\u001b[0m: 'list' object has no attribute 'lower'"
          ]
        }
      ]
    },
    {
      "cell_type": "code",
      "source": [
        "\n",
        "model_out = [sentence_list]\n",
        "reference =[document]\n",
        "rouge = Rouge()\n",
        "# rouge.get_scores(model_out,reference)\n",
        "score = rouge(article_text, summary)\n",
        "print(score)"
      ],
      "metadata": {
        "id": "GuevDR0ICKTE",
        "outputId": "2fd42d41-2bf5-441a-c604-07752017a1e3",
        "colab": {
          "base_uri": "https://localhost:8080/",
          "height": 374
        }
      },
      "execution_count": 47,
      "outputs": [
        {
          "output_type": "error",
          "ename": "ModuleNotFoundError",
          "evalue": "ignored",
          "traceback": [
            "\u001b[0;31m---------------------------------------------------------------------------\u001b[0m",
            "\u001b[0;31mModuleNotFoundError\u001b[0m                       Traceback (most recent call last)",
            "\u001b[0;32m<ipython-input-47-47ef2dbd0f72>\u001b[0m in \u001b[0;36m<module>\u001b[0;34m()\u001b[0m\n\u001b[0;32m----> 1\u001b[0;31m \u001b[0;32mfrom\u001b[0m \u001b[0mPyRouge\u001b[0m\u001b[0;34m.\u001b[0m\u001b[0mpyrouge\u001b[0m \u001b[0;32mimport\u001b[0m \u001b[0mRouge\u001b[0m\u001b[0;34m\u001b[0m\u001b[0;34m\u001b[0m\u001b[0m\n\u001b[0m\u001b[1;32m      2\u001b[0m \u001b[0mmodel_out\u001b[0m \u001b[0;34m=\u001b[0m \u001b[0;34m[\u001b[0m\u001b[0msentence_list\u001b[0m\u001b[0;34m]\u001b[0m\u001b[0;34m\u001b[0m\u001b[0;34m\u001b[0m\u001b[0m\n\u001b[1;32m      3\u001b[0m \u001b[0mreference\u001b[0m \u001b[0;34m=\u001b[0m\u001b[0;34m[\u001b[0m\u001b[0mdocument\u001b[0m\u001b[0;34m]\u001b[0m\u001b[0;34m\u001b[0m\u001b[0;34m\u001b[0m\u001b[0m\n\u001b[1;32m      4\u001b[0m \u001b[0mrouge\u001b[0m \u001b[0;34m=\u001b[0m \u001b[0mRouge\u001b[0m\u001b[0;34m(\u001b[0m\u001b[0;34m)\u001b[0m\u001b[0;34m\u001b[0m\u001b[0;34m\u001b[0m\u001b[0m\n\u001b[1;32m      5\u001b[0m \u001b[0;31m# rouge.get_scores(model_out,reference)\u001b[0m\u001b[0;34m\u001b[0m\u001b[0;34m\u001b[0m\u001b[0;34m\u001b[0m\u001b[0m\n",
            "\u001b[0;31mModuleNotFoundError\u001b[0m: No module named 'PyRouge'",
            "",
            "\u001b[0;31m---------------------------------------------------------------------------\u001b[0;32m\nNOTE: If your import is failing due to a missing package, you can\nmanually install dependencies using either !pip or !apt.\n\nTo view examples of installing some common dependencies, click the\n\"Open Examples\" button below.\n\u001b[0;31m---------------------------------------------------------------------------\u001b[0m\n"
          ],
          "errorDetails": {
            "actions": [
              {
                "action": "open_url",
                "actionText": "Open Examples",
                "url": "/notebooks/snippets/importing_libraries.ipynb"
              }
            ]
          }
        }
      ]
    }
  ]
}