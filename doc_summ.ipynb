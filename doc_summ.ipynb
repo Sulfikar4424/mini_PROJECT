{
  "nbformat": 4,
  "nbformat_minor": 0,
  "metadata": {
    "colab": {
      "name": "doc_summ.ipynb",
      "provenance": [],
      "collapsed_sections": [],
      "authorship_tag": "ABX9TyMB2JrSck7BSTJx66FJ2sVW",
      "include_colab_link": true
    },
    "kernelspec": {
      "name": "python3",
      "display_name": "Python 3"
    },
    "language_info": {
      "name": "python"
    }
  },
  "cells": [
    {
      "cell_type": "markdown",
      "metadata": {
        "id": "view-in-github",
        "colab_type": "text"
      },
      "source": [
        "<a href=\"https://colab.research.google.com/github/Sulfikar4424/mini_PROJECT/blob/main/doc_summ.ipynb\" target=\"_parent\"><img src=\"https://colab.research.google.com/assets/colab-badge.svg\" alt=\"Open In Colab\"/></a>"
      ]
    },
    {
      "cell_type": "code",
      "execution_count": 1,
      "metadata": {
        "colab": {
          "base_uri": "https://localhost:8080/"
        },
        "id": "c3U_XOnVM5BI",
        "outputId": "21343431-bab7-429a-a023-4a66010d1f23"
      },
      "outputs": [
        {
          "output_type": "execute_result",
          "data": {
            "text/plain": [
              "['unzip:  cannot find or open *.zip, *.zip.zip or *.zip.ZIP.',\n",
              " '',\n",
              " 'No zipfiles found.']"
            ]
          },
          "metadata": {},
          "execution_count": 1
        }
      ],
      "source": [
        "!!unzip \\*.zip && rm \\*.zip"
      ]
    },
    {
      "cell_type": "code",
      "source": [
        "pip install PyPDF2"
      ],
      "metadata": {
        "colab": {
          "base_uri": "https://localhost:8080/"
        },
        "id": "iczu4EeiNO-P",
        "outputId": "7884d7f2-8185-450c-e5d3-61555c5ed465"
      },
      "execution_count": 2,
      "outputs": [
        {
          "output_type": "stream",
          "name": "stdout",
          "text": [
            "Collecting PyPDF2\n",
            "  Downloading PyPDF2-1.26.0.tar.gz (77 kB)\n",
            "\u001b[?25l\r\u001b[K     |████▎                           | 10 kB 15.6 MB/s eta 0:00:01\r\u001b[K     |████████▌                       | 20 kB 20.4 MB/s eta 0:00:01\r\u001b[K     |████████████▊                   | 30 kB 24.7 MB/s eta 0:00:01\r\u001b[K     |█████████████████               | 40 kB 17.9 MB/s eta 0:00:01\r\u001b[K     |█████████████████████▏          | 51 kB 15.2 MB/s eta 0:00:01\r\u001b[K     |█████████████████████████▍      | 61 kB 17.3 MB/s eta 0:00:01\r\u001b[K     |█████████████████████████████▋  | 71 kB 16.7 MB/s eta 0:00:01\r\u001b[K     |████████████████████████████████| 77 kB 4.4 MB/s \n",
            "\u001b[?25hBuilding wheels for collected packages: PyPDF2\n",
            "  Building wheel for PyPDF2 (setup.py) ... \u001b[?25l\u001b[?25hdone\n",
            "  Created wheel for PyPDF2: filename=PyPDF2-1.26.0-py3-none-any.whl size=61102 sha256=eed8129c38d3eaf46ece5f6ba3ae6ca2561bc1f1e8fa0b1aafbd7a9e2c115ca0\n",
            "  Stored in directory: /root/.cache/pip/wheels/80/1a/24/648467ade3a77ed20f35cfd2badd32134e96dd25ca811e64b3\n",
            "Successfully built PyPDF2\n",
            "Installing collected packages: PyPDF2\n",
            "Successfully installed PyPDF2-1.26.0\n"
          ]
        }
      ]
    },
    {
      "cell_type": "code",
      "source": [
        "pip install docx2txt"
      ],
      "metadata": {
        "colab": {
          "base_uri": "https://localhost:8080/"
        },
        "id": "9-k8tnTxNTT5",
        "outputId": "a25a34b2-d03b-4468-c107-843d0b8f6232"
      },
      "execution_count": 3,
      "outputs": [
        {
          "output_type": "stream",
          "name": "stdout",
          "text": [
            "Collecting docx2txt\n",
            "  Downloading docx2txt-0.8.tar.gz (2.8 kB)\n",
            "Building wheels for collected packages: docx2txt\n",
            "  Building wheel for docx2txt (setup.py) ... \u001b[?25l\u001b[?25hdone\n",
            "  Created wheel for docx2txt: filename=docx2txt-0.8-py3-none-any.whl size=3980 sha256=6eac2c17e8138c1a1aba419db4dd94727441fab431dce3c4e38dd02ec976c07d\n",
            "  Stored in directory: /root/.cache/pip/wheels/b7/20/b2/473e3aea9a0c0d3e7b2f7bd81d06d0794fec12752733d1f3a8\n",
            "Successfully built docx2txt\n",
            "Installing collected packages: docx2txt\n",
            "Successfully installed docx2txt-0.8\n"
          ]
        }
      ]
    },
    {
      "cell_type": "code",
      "source": [
        "import numpy as np\n",
        "import PyPDF2\n",
        "import docx2txt\n",
        "import sys"
      ],
      "metadata": {
        "id": "pqAYxvLBNTi3"
      },
      "execution_count": 4,
      "outputs": []
    },
    {
      "cell_type": "code",
      "source": [
        "import matplotlib.pyplot as plt\n",
        "%matplotlib inline"
      ],
      "metadata": {
        "id": "MZYlcNdgNTuZ"
      },
      "execution_count": 5,
      "outputs": []
    },
    {
      "cell_type": "code",
      "source": [
        "import networkx as nx"
      ],
      "metadata": {
        "id": "h3k8zAmrNT3t"
      },
      "execution_count": 6,
      "outputs": []
    },
    {
      "cell_type": "code",
      "source": [
        "from nltk.tokenize.punkt import PunktSentenceTokenizer"
      ],
      "metadata": {
        "id": "MORmdBOENSge"
      },
      "execution_count": 7,
      "outputs": []
    },
    {
      "cell_type": "code",
      "source": [
        "from sklearn.feature_extraction.text import TfidfTransformer, CountVectorizer"
      ],
      "metadata": {
        "id": "6TrWu9yUNgBi"
      },
      "execution_count": 8,
      "outputs": []
    },
    {
      "cell_type": "code",
      "source": [
        "# we are going to show an example of how the method is working\n",
        "# first let's take the document as an input\n",
        "def readDoc():\n",
        "    name = input('Please input a file name: ') \n",
        "    print('You have asked for the document {}'.format(name))\n",
        "\n",
        "    # now read the type of document\n",
        "    if name.lower().endswith('.txt'):\n",
        "        choice = 1\n",
        "    elif name.lower().endswith('.pdf'):\n",
        "        choice = 2\n",
        "    else:\n",
        "        choice = 3\n",
        "        # print(name)\n",
        "    print(choice)\n",
        "    # Case 1: if it is a .txt file\n",
        "        \n",
        "    if choice == 1:\n",
        "        f = open(name, 'r')\n",
        "        article_text = f.read()\n",
        "        f.close()\n",
        "            \n",
        "    # Case 2: if it is a .pdf file\n",
        "    elif choice == 2:\n",
        "        pdfFileObj = open(name, 'rb')\n",
        "        pdfReader = PyPDF2.PdfFileReader(pdfFileObj)\n",
        "        pageObj = pdfReader.getPage(0)\n",
        "        article_text = pageObj.extractText()\n",
        "        pdfFileObj.close()\n",
        "    \n",
        "    # Case 3: none of the format\n",
        "    else:\n",
        "        print('Failed to load a valid file')\n",
        "        print('Returning an empty string')\n",
        "        article_text = ''\n",
        "    \n",
        "    print(type(article_text))\n",
        "    return article_text"
      ],
      "metadata": {
        "id": "O7gAT8eeNgHj"
      },
      "execution_count": 9,
      "outputs": []
    },
    {
      "cell_type": "code",
      "source": [
        "# the function used for tokenizing the sentences\n",
        "# tokenization of a sentence: '''provided in cell() above'''\n",
        "\n",
        "def tokenize(article_text):\n",
        "    # We are tokenizing using the PunktSentenceTokenizer\n",
        "    # we call an instance of this class as sentence_tokenizer\n",
        "    doc_tokenizer = PunktSentenceTokenizer()\n",
        "    \n",
        "    # tokenize() method: takes our document as input and returns a list of all the sentences in the document\n",
        "    \n",
        "    # sentences is a list containing each sentence of the document as an element\n",
        "    sentences_list = doc_tokenizer.tokenize(document)\n",
        "    return sentences_list"
      ],
      "metadata": {
        "id": "do0u8cjwNgLe"
      },
      "execution_count": 10,
      "outputs": []
    },
    {
      "cell_type": "code",
      "source": [
        "# reading a file and \n",
        "# printing the size of the file\n",
        "article_text = readDoc()\n",
        "print('The length of the file is:', end=' ')\n",
        "print(len(article_text))"
      ],
      "metadata": {
        "colab": {
          "base_uri": "https://localhost:8080/"
        },
        "id": "blHykQHgNgPr",
        "outputId": "fe24f7ae-b930-4bac-bcdb-183700c97181"
      },
      "execution_count": 11,
      "outputs": [
        {
          "output_type": "stream",
          "name": "stdout",
          "text": [
            "Please input a file name: data.pdf\n",
            "You have asked for the document data.pdf\n",
            "2\n",
            "<class 'str'>\n",
            "The length of the file is: 1763\n"
          ]
        }
      ]
    },
    {
      "cell_type": "code",
      "source": [
        "print(article_text)"
      ],
      "metadata": {
        "colab": {
          "base_uri": "https://localhost:8080/"
        },
        "id": "MdZ8l0YkyVTK",
        "outputId": "f15a1227-904b-4812-f247-8a67d139edd5"
      },
      "execution_count": 12,
      "outputs": [
        {
          "output_type": "stream",
          "name": "stdout",
          "text": [
            "Traveling is one of the most valuable and enriching experiences in our lives \n",
            " \n",
            "increasing our knowledge, opening our minds, enriching our spirits, extending new moral \n",
            " \n",
            "values; and you can find many destinations in the world that would fulfill your desires. \n",
            " \n",
            "But, if what you are looking for is a unique and memorable experience that will give you \n",
            " \n",
            "the opportunity to learn about another culture through art, cultural events,\n",
            " \n",
            "historical cites, \n",
            " \n",
            "and archeological treasures, a place to visit is certainly Italy. Among many places in the \n",
            " \n",
            "world where you can relive the past, Italy is certainly the most charming place. This little \n",
            " \n",
            "country in the middle of the Mediterranean represe\n",
            "nts the cradle of the Roman Empire \n",
            " \n",
            "and the Renaissance, and offers an incredible number of opportunities for people eager to \n",
            " \n",
            "learn about an ancient civilization that shaped the history of many cultures. Moreover, \n",
            " \n",
            "\n",
            "ducational, Scientific and Cultural \n",
            " \n",
            "\n",
            " \n",
            "\n",
            " \n",
            "\n",
            "hough every little corner of this country \n",
            " \n",
            "\n",
            " \n",
            "\n",
            " \n",
            "beauty and their historic, cultural, \n",
            "and artistic value, and these cities are Rome and \n",
            " \n",
            "Venice.  \n",
            " \n",
            "Rome is a large city in the middle of the Country and historically was the center \n",
            " \n",
            "of the Roman Empire and of Christianity; today the center of the Catholic Church of the \n",
            " \n",
            "entire world is in the \n",
            "Vatican City, which although it is considered a separate state, is \n",
            " \n",
            "\n",
            " \n",
            "\n",
            " \n",
            "offering cultur\n",
            "al visitors the opportunity to learn about architecture, art and many aspects \n",
            " \n",
            "of western civilization through guided educational tours. Many of the historic sites and \n",
            " \n",
            "museums can be reached by foot once you have reached down town, and I would suggest \n",
            " \n",
            "ta\n",
            "king a walk, if it is possible, because not only will the famous historical landmarks \n",
            " \n",
            "\n"
          ]
        }
      ]
    },
    {
      "cell_type": "code",
      "source": [
        "import re\n",
        "import nltk"
      ],
      "metadata": {
        "id": "iSejcDZf8DsM"
      },
      "execution_count": 13,
      "outputs": []
    },
    {
      "cell_type": "markdown",
      "source": [
        "pre processing"
      ],
      "metadata": {
        "id": "Lr7u_X3cZXZu"
      }
    },
    {
      "cell_type": "code",
      "source": [
        "article_text = article_text.lower()\n",
        "article_text"
      ],
      "metadata": {
        "colab": {
          "base_uri": "https://localhost:8080/",
          "height": 176
        },
        "id": "RtZxEiz28Dyv",
        "outputId": "ae52ef81-ec54-4ced-dab3-94ca1f6b26e8"
      },
      "execution_count": 14,
      "outputs": [
        {
          "output_type": "execute_result",
          "data": {
            "application/vnd.google.colaboratory.intrinsic+json": {
              "type": "string"
            },
            "text/plain": [
              "'traveling is one of the most valuable and enriching experiences in our lives \\n \\nincreasing our knowledge, opening our minds, enriching our spirits, extending new moral \\n \\nvalues; and you can find many destinations in the world that would fulfill your desires. \\n \\nbut, if what you are looking for is a unique and memorable experience that will give you \\n \\nthe opportunity to learn about another culture through art, cultural events,\\n \\nhistorical cites, \\n \\nand archeological treasures, a place to visit is certainly italy. among many places in the \\n \\nworld where you can relive the past, italy is certainly the most charming place. this little \\n \\ncountry in the middle of the mediterranean represe\\nnts the cradle of the roman empire \\n \\nand the renaissance, and offers an incredible number of opportunities for people eager to \\n \\nlearn about an ancient civilization that shaped the history of many cultures. moreover, \\n \\n\\nducational, scientific and cultural \\n \\n\\n \\n\\n \\n\\nhough every little corner of this country \\n \\n\\n \\n\\n \\nbeauty and their historic, cultural, \\nand artistic value, and these cities are rome and \\n \\nvenice.  \\n \\nrome is a large city in the middle of the country and historically was the center \\n \\nof the roman empire and of christianity; today the center of the catholic church of the \\n \\nentire world is in the \\nvatican city, which although it is considered a separate state, is \\n \\n\\n \\n\\n \\noffering cultur\\nal visitors the opportunity to learn about architecture, art and many aspects \\n \\nof western civilization through guided educational tours. many of the historic sites and \\n \\nmuseums can be reached by foot once you have reached down town, and i would suggest \\n \\nta\\nking a walk, if it is possible, because not only will the famous historical landmarks \\n \\n'"
            ]
          },
          "metadata": {},
          "execution_count": 14
        }
      ]
    },
    {
      "cell_type": "code",
      "source": [
        "# remove spaces, punctuations and numbers\n",
        "clean_text = re.sub('[^a-zA-Z]', ' ', article_text)\n",
        "clean_text = re.sub('\\s+', ' ', clean_text)\n",
        "clean_text"
      ],
      "metadata": {
        "colab": {
          "base_uri": "https://localhost:8080/",
          "height": 176
        },
        "id": "6D3mroKg8D6g",
        "outputId": "51e0e9b0-7ff1-4e01-b3ba-5fe3477c42ce"
      },
      "execution_count": 15,
      "outputs": [
        {
          "output_type": "execute_result",
          "data": {
            "application/vnd.google.colaboratory.intrinsic+json": {
              "type": "string"
            },
            "text/plain": [
              "'traveling is one of the most valuable and enriching experiences in our lives increasing our knowledge opening our minds enriching our spirits extending new moral values and you can find many destinations in the world that would fulfill your desires but if what you are looking for is a unique and memorable experience that will give you the opportunity to learn about another culture through art cultural events historical cites and archeological treasures a place to visit is certainly italy among many places in the world where you can relive the past italy is certainly the most charming place this little country in the middle of the mediterranean represe nts the cradle of the roman empire and the renaissance and offers an incredible number of opportunities for people eager to learn about an ancient civilization that shaped the history of many cultures moreover ducational scientific and cultural hough every little corner of this country beauty and their historic cultural and artistic value and these cities are rome and venice rome is a large city in the middle of the country and historically was the center of the roman empire and of christianity today the center of the catholic church of the entire world is in the vatican city which although it is considered a separate state is offering cultur al visitors the opportunity to learn about architecture art and many aspects of western civilization through guided educational tours many of the historic sites and museums can be reached by foot once you have reached down town and i would suggest ta king a walk if it is possible because not only will the famous historical landmarks '"
            ]
          },
          "metadata": {},
          "execution_count": 15
        }
      ]
    },
    {
      "cell_type": "code",
      "source": [
        "import nltk\n",
        "nltk.download('punkt')"
      ],
      "metadata": {
        "colab": {
          "base_uri": "https://localhost:8080/"
        },
        "id": "rC4mBQec8D9U",
        "outputId": "cc73293a-18a2-403a-c2c5-d01995fd84b9"
      },
      "execution_count": 16,
      "outputs": [
        {
          "output_type": "stream",
          "name": "stdout",
          "text": [
            "[nltk_data] Downloading package punkt to /root/nltk_data...\n",
            "[nltk_data]   Unzipping tokenizers/punkt.zip.\n"
          ]
        },
        {
          "output_type": "execute_result",
          "data": {
            "text/plain": [
              "True"
            ]
          },
          "metadata": {},
          "execution_count": 16
        }
      ]
    },
    {
      "cell_type": "code",
      "source": [
        "# split into sentence list\n",
        "sentence_list = nltk.sent_tokenize(article_text)\n",
        "sentence_list"
      ],
      "metadata": {
        "colab": {
          "base_uri": "https://localhost:8080/"
        },
        "id": "LiAc640n8EES",
        "outputId": "a7e41723-6d55-4b9e-aabe-c40d547c6ef3"
      },
      "execution_count": 17,
      "outputs": [
        {
          "output_type": "execute_result",
          "data": {
            "text/plain": [
              "['traveling is one of the most valuable and enriching experiences in our lives \\n \\nincreasing our knowledge, opening our minds, enriching our spirits, extending new moral \\n \\nvalues; and you can find many destinations in the world that would fulfill your desires.',\n",
              " 'but, if what you are looking for is a unique and memorable experience that will give you \\n \\nthe opportunity to learn about another culture through art, cultural events,\\n \\nhistorical cites, \\n \\nand archeological treasures, a place to visit is certainly italy.',\n",
              " 'among many places in the \\n \\nworld where you can relive the past, italy is certainly the most charming place.',\n",
              " 'this little \\n \\ncountry in the middle of the mediterranean represe\\nnts the cradle of the roman empire \\n \\nand the renaissance, and offers an incredible number of opportunities for people eager to \\n \\nlearn about an ancient civilization that shaped the history of many cultures.',\n",
              " 'moreover, \\n \\n\\nducational, scientific and cultural \\n \\n\\n \\n\\n \\n\\nhough every little corner of this country \\n \\n\\n \\n\\n \\nbeauty and their historic, cultural, \\nand artistic value, and these cities are rome and \\n \\nvenice.',\n",
              " 'rome is a large city in the middle of the country and historically was the center \\n \\nof the roman empire and of christianity; today the center of the catholic church of the \\n \\nentire world is in the \\nvatican city, which although it is considered a separate state, is \\n \\n\\n \\n\\n \\noffering cultur\\nal visitors the opportunity to learn about architecture, art and many aspects \\n \\nof western civilization through guided educational tours.',\n",
              " 'many of the historic sites and \\n \\nmuseums can be reached by foot once you have reached down town, and i would suggest \\n \\nta\\nking a walk, if it is possible, because not only will the famous historical landmarks']"
            ]
          },
          "metadata": {},
          "execution_count": 17
        }
      ]
    },
    {
      "cell_type": "code",
      "source": [
        "## run this cell once to download stopwords\n",
        "import nltk\n",
        "nltk.download('stopwords')"
      ],
      "metadata": {
        "colab": {
          "base_uri": "https://localhost:8080/"
        },
        "id": "X_FCn84U8UJF",
        "outputId": "d1388f5d-4dc2-4835-a9e3-2905554b3e5c"
      },
      "execution_count": 18,
      "outputs": [
        {
          "output_type": "stream",
          "name": "stdout",
          "text": [
            "[nltk_data] Downloading package stopwords to /root/nltk_data...\n",
            "[nltk_data]   Unzipping corpora/stopwords.zip.\n"
          ]
        },
        {
          "output_type": "execute_result",
          "data": {
            "text/plain": [
              "True"
            ]
          },
          "metadata": {},
          "execution_count": 18
        }
      ]
    },
    {
      "cell_type": "markdown",
      "source": [
        "freq"
      ],
      "metadata": {
        "id": "Zku04CPR8cfd"
      }
    },
    {
      "cell_type": "code",
      "source": [
        "stopwords = nltk.corpus.stopwords.words('english')\n",
        "\n",
        "word_frequencies = {}\n",
        "for word in nltk.word_tokenize(clean_text):\n",
        "    if word not in stopwords:\n",
        "        if word not in word_frequencies:\n",
        "            word_frequencies[word] = 1\n",
        "        else:\n",
        "            word_frequencies[word] += 1"
      ],
      "metadata": {
        "id": "Wn8XuAY-8UK6"
      },
      "execution_count": 19,
      "outputs": []
    },
    {
      "cell_type": "code",
      "source": [
        "maximum_frequency = max(word_frequencies.values())\n",
        "\n",
        "for word in word_frequencies:\n",
        "    word_frequencies[word] = word_frequencies[word] / maximum_frequency"
      ],
      "metadata": {
        "id": "Tu1P9zsE8UNa"
      },
      "execution_count": 20,
      "outputs": []
    },
    {
      "cell_type": "markdown",
      "source": [
        "Calculate Sentence Scores"
      ],
      "metadata": {
        "id": "oO46Ig858igv"
      }
    },
    {
      "cell_type": "code",
      "source": [
        "sentence_scores = {}\n",
        "\n",
        "for sentence in sentence_list:\n",
        "    for word in nltk.word_tokenize(sentence):\n",
        "        if word in word_frequencies and len(sentence.split(' ')) < 30:\n",
        "            if sentence not in sentence_scores:\n",
        "                sentence_scores[sentence] = word_frequencies[word]\n",
        "            else:\n",
        "                sentence_scores[sentence] += word_frequencies[word]"
      ],
      "metadata": {
        "id": "f2WgU9f_8UQb"
      },
      "execution_count": 21,
      "outputs": []
    },
    {
      "cell_type": "code",
      "source": [
        "word_frequencies"
      ],
      "metadata": {
        "colab": {
          "base_uri": "https://localhost:8080/"
        },
        "id": "hwZT9NJJ8EHx",
        "outputId": "1de61188-949f-4b0a-ed73-21c1d5a38957"
      },
      "execution_count": 22,
      "outputs": [
        {
          "output_type": "execute_result",
          "data": {
            "text/plain": [
              "{'al': 0.2,\n",
              " 'although': 0.2,\n",
              " 'among': 0.2,\n",
              " 'ancient': 0.2,\n",
              " 'another': 0.2,\n",
              " 'archeological': 0.2,\n",
              " 'architecture': 0.2,\n",
              " 'art': 0.4,\n",
              " 'artistic': 0.2,\n",
              " 'aspects': 0.2,\n",
              " 'beauty': 0.2,\n",
              " 'catholic': 0.2,\n",
              " 'center': 0.4,\n",
              " 'certainly': 0.4,\n",
              " 'charming': 0.2,\n",
              " 'christianity': 0.2,\n",
              " 'church': 0.2,\n",
              " 'cites': 0.2,\n",
              " 'cities': 0.2,\n",
              " 'city': 0.4,\n",
              " 'civilization': 0.4,\n",
              " 'considered': 0.2,\n",
              " 'corner': 0.2,\n",
              " 'country': 0.6,\n",
              " 'cradle': 0.2,\n",
              " 'cultur': 0.2,\n",
              " 'cultural': 0.6,\n",
              " 'culture': 0.2,\n",
              " 'cultures': 0.2,\n",
              " 'desires': 0.2,\n",
              " 'destinations': 0.2,\n",
              " 'ducational': 0.2,\n",
              " 'eager': 0.2,\n",
              " 'educational': 0.2,\n",
              " 'empire': 0.4,\n",
              " 'enriching': 0.4,\n",
              " 'entire': 0.2,\n",
              " 'events': 0.2,\n",
              " 'every': 0.2,\n",
              " 'experience': 0.2,\n",
              " 'experiences': 0.2,\n",
              " 'extending': 0.2,\n",
              " 'famous': 0.2,\n",
              " 'find': 0.2,\n",
              " 'foot': 0.2,\n",
              " 'fulfill': 0.2,\n",
              " 'give': 0.2,\n",
              " 'guided': 0.2,\n",
              " 'historic': 0.4,\n",
              " 'historical': 0.4,\n",
              " 'historically': 0.2,\n",
              " 'history': 0.2,\n",
              " 'hough': 0.2,\n",
              " 'increasing': 0.2,\n",
              " 'incredible': 0.2,\n",
              " 'italy': 0.4,\n",
              " 'king': 0.2,\n",
              " 'knowledge': 0.2,\n",
              " 'landmarks': 0.2,\n",
              " 'large': 0.2,\n",
              " 'learn': 0.6,\n",
              " 'little': 0.4,\n",
              " 'lives': 0.2,\n",
              " 'looking': 0.2,\n",
              " 'many': 1.0,\n",
              " 'mediterranean': 0.2,\n",
              " 'memorable': 0.2,\n",
              " 'middle': 0.4,\n",
              " 'minds': 0.2,\n",
              " 'moral': 0.2,\n",
              " 'moreover': 0.2,\n",
              " 'museums': 0.2,\n",
              " 'new': 0.2,\n",
              " 'nts': 0.2,\n",
              " 'number': 0.2,\n",
              " 'offering': 0.2,\n",
              " 'offers': 0.2,\n",
              " 'one': 0.2,\n",
              " 'opening': 0.2,\n",
              " 'opportunities': 0.2,\n",
              " 'opportunity': 0.4,\n",
              " 'past': 0.2,\n",
              " 'people': 0.2,\n",
              " 'place': 0.4,\n",
              " 'places': 0.2,\n",
              " 'possible': 0.2,\n",
              " 'reached': 0.4,\n",
              " 'relive': 0.2,\n",
              " 'renaissance': 0.2,\n",
              " 'represe': 0.2,\n",
              " 'roman': 0.4,\n",
              " 'rome': 0.4,\n",
              " 'scientific': 0.2,\n",
              " 'separate': 0.2,\n",
              " 'shaped': 0.2,\n",
              " 'sites': 0.2,\n",
              " 'spirits': 0.2,\n",
              " 'state': 0.2,\n",
              " 'suggest': 0.2,\n",
              " 'ta': 0.2,\n",
              " 'today': 0.2,\n",
              " 'tours': 0.2,\n",
              " 'town': 0.2,\n",
              " 'traveling': 0.2,\n",
              " 'treasures': 0.2,\n",
              " 'unique': 0.2,\n",
              " 'valuable': 0.2,\n",
              " 'value': 0.2,\n",
              " 'values': 0.2,\n",
              " 'vatican': 0.2,\n",
              " 'venice': 0.2,\n",
              " 'visit': 0.2,\n",
              " 'visitors': 0.2,\n",
              " 'walk': 0.2,\n",
              " 'western': 0.2,\n",
              " 'world': 0.6,\n",
              " 'would': 0.4}"
            ]
          },
          "metadata": {},
          "execution_count": 22
        }
      ]
    },
    {
      "cell_type": "code",
      "source": [
        "sentence_scores"
      ],
      "metadata": {
        "colab": {
          "base_uri": "https://localhost:8080/"
        },
        "id": "0Dlmqdxy8n5Y",
        "outputId": "5388cc91-98ad-4119-8c83-4f77f448f888"
      },
      "execution_count": 23,
      "outputs": [
        {
          "output_type": "execute_result",
          "data": {
            "text/plain": [
              "{'among many places in the \\n \\nworld where you can relive the past, italy is certainly the most charming place.': 3.8000000000000003}"
            ]
          },
          "metadata": {},
          "execution_count": 23
        }
      ]
    },
    {
      "cell_type": "markdown",
      "source": [
        "Summary"
      ],
      "metadata": {
        "id": "R8Pdi3a18uMc"
      }
    },
    {
      "cell_type": "code",
      "source": [
        ""
      ],
      "metadata": {
        "id": "eBKlRv-58n9t"
      },
      "execution_count": 23,
      "outputs": []
    },
    {
      "cell_type": "code",
      "source": [
        "import heapq\n",
        "summary = heapq.nlargest(5, sentence_scores, key=sentence_scores.get)\n",
        "\n",
        "print(\" \".join(summary))"
      ],
      "metadata": {
        "colab": {
          "base_uri": "https://localhost:8080/"
        },
        "id": "KiUViuyd8oDQ",
        "outputId": "fd3adec3-578f-4f01-c676-aa98780d6e59"
      },
      "execution_count": 24,
      "outputs": [
        {
          "output_type": "stream",
          "name": "stdout",
          "text": [
            "among many places in the \n",
            " \n",
            "world where you can relive the past, italy is certainly the most charming place.\n"
          ]
        }
      ]
    },
    {
      "cell_type": "code",
      "source": [
        "# print(sentence_list)\n",
        "#summary = \" \".join(str(x) for x in article_text)\n",
        "#print(summary)\n",
        "# save the data in another file, names sum.txt\n",
        "summary = heapq.nlargest(5, sentence_scores, key=sentence_scores.get)\n",
        "\n",
        "print(\" \".join(summary))\n",
        "f = open('final3.txt', '+a')\n",
        "#print(type(f))\n",
        "f.write('\\n')\n",
        "f.write(\" \".join(summary))\n",
        "print(f.read())\n",
        "f.close"
      ],
      "metadata": {
        "id": "bz4st_cXI2dX",
        "outputId": "10873041-eb1c-4f77-ed24-c39cdc8a2c37",
        "colab": {
          "base_uri": "https://localhost:8080/"
        }
      },
      "execution_count": 35,
      "outputs": [
        {
          "output_type": "stream",
          "name": "stdout",
          "text": [
            "among many places in the \n",
            " \n",
            "world where you can relive the past, italy is certainly the most charming place.\n",
            "\n"
          ]
        },
        {
          "output_type": "execute_result",
          "data": {
            "text/plain": [
              "<function TextIOWrapper.close>"
            ]
          },
          "metadata": {},
          "execution_count": 35
        }
      ]
    },
    {
      "cell_type": "markdown",
      "source": [
        "EVALUATION"
      ],
      "metadata": {
        "id": "meFTlZ2e9JAx"
      }
    },
    {
      "cell_type": "code",
      "source": [
        "pip install git+https://github.com/tagucci/pythonrouge.git"
      ],
      "metadata": {
        "id": "loH3qWYuJ4wi",
        "outputId": "c0653f01-efb6-46e8-9c52-1d2d0e9c8fcd",
        "colab": {
          "base_uri": "https://localhost:8080/"
        }
      },
      "execution_count": 26,
      "outputs": [
        {
          "output_type": "stream",
          "name": "stdout",
          "text": [
            "Collecting git+https://github.com/tagucci/pythonrouge.git\n",
            "  Cloning https://github.com/tagucci/pythonrouge.git to /tmp/pip-req-build-kqoq208n\n",
            "  Running command git clone -q https://github.com/tagucci/pythonrouge.git /tmp/pip-req-build-kqoq208n\n",
            "Building wheels for collected packages: pythonrouge\n",
            "  Building wheel for pythonrouge (setup.py) ... \u001b[?25l\u001b[?25hdone\n",
            "  Created wheel for pythonrouge: filename=pythonrouge-0.2-py3-none-any.whl size=285408 sha256=d91e7960299ca06ddf1252ff37b55a5a4c110f3f69102efcb645d7c63550f730\n",
            "  Stored in directory: /tmp/pip-ephem-wheel-cache-un5k_9vt/wheels/f2/28/1a/47e2c73d5e7d1d49296a991e19d774c97e4c2e98dbf027a515\n",
            "Successfully built pythonrouge\n",
            "Installing collected packages: pythonrouge\n",
            "Successfully installed pythonrouge-0.2\n"
          ]
        }
      ]
    },
    {
      "cell_type": "code",
      "source": [
        "pip install rouge"
      ],
      "metadata": {
        "colab": {
          "base_uri": "https://localhost:8080/"
        },
        "id": "e30ytO1C8oHR",
        "outputId": "45f8e233-e5b3-475b-ce6a-7c7bf3137410"
      },
      "execution_count": 27,
      "outputs": [
        {
          "output_type": "stream",
          "name": "stdout",
          "text": [
            "Collecting rouge\n",
            "  Downloading rouge-1.0.1-py3-none-any.whl (13 kB)\n",
            "Requirement already satisfied: six in /usr/local/lib/python3.7/dist-packages (from rouge) (1.15.0)\n",
            "Installing collected packages: rouge\n",
            "Successfully installed rouge-1.0.1\n"
          ]
        }
      ]
    },
    {
      "cell_type": "code",
      "source": [
        "from rouge import Rouge\n",
        "hum_sum = readDoc()\n",
        "# print('The length of the file is:', end=' ')\n",
        "# print(len(hum_sum))\n",
        "\n",
        "summary = [\" \".join(str(x) for x in article_text)]\n",
        "h_summ = [(hum_sum)]\n",
        "\n",
        "rouge = Rouge()\n",
        "rouge_score = rouge.get_scores(summary, h_summ)\n",
        "print(rouge_score[0][\"rouge-1\"])\n",
        "print(rouge_score[0][\"rouge-2\"])\n",
        "print(rouge_score[0][\"rouge-l\"])"
      ],
      "metadata": {
        "colab": {
          "base_uri": "https://localhost:8080/"
        },
        "id": "DEzjHubv8oOA",
        "outputId": "f688b87e-1eaa-45e4-8459-33aac1837bb1"
      },
      "execution_count": 28,
      "outputs": [
        {
          "output_type": "stream",
          "name": "stdout",
          "text": [
            "Please input a file name: humsum.pdf\n",
            "You have asked for the document humsum.pdf\n",
            "2\n",
            "<class 'str'>\n",
            "{'r': 0.018518518518518517, 'p': 0.037037037037037035, 'f': 0.024691353580247714}\n",
            "{'r': 0.0, 'p': 0.0, 'f': 0.0}\n",
            "{'r': 0.018518518518518517, 'p': 0.037037037037037035, 'f': 0.024691353580247714}\n"
          ]
        }
      ]
    },
    {
      "cell_type": "markdown",
      "source": [
        "COUNT"
      ],
      "metadata": {
        "id": "15XV-vXbZN87"
      }
    },
    {
      "cell_type": "code",
      "source": [
        "import re\n",
        "res = len(re.findall(r'\\w+', article_text))\n",
        "# total no of words\n",
        "print (\"The number of words in input : \" + str(res))\n",
        "#res1 = len(re.findall(r'\\w+',['final3.txt']))\n",
        "# total no of words\n",
        "#print (\"The number of words in Summery : \" + str(res1))\n",
        "# creating variable to store the\n",
        "# number of words\n",
        "number_of_words = 0\n",
        "\n",
        "# Opening our text file in read only\n",
        "# mode using the open() function\n",
        "with open(r'final3.txt','r') as file:\n",
        "\n",
        "\t# Reading the content of the file\n",
        "\t# using the read() function and storing\n",
        "\t# them in a new variable\n",
        "\tdata = file.read()\n",
        "\n",
        "\t# Splitting the data into separate lines\n",
        "\t# using the split() function\n",
        "\tlines = data.split()\n",
        "\n",
        "\t# Adding the length of the\n",
        "\t# lines in our number_of_words\n",
        "\t# variable\n",
        "\tnumber_of_words += len(lines)\n",
        "\n",
        "\n",
        "# Printing total number of words\n",
        "print('the number of words in output : ')\n",
        "print(number_of_words)\n"
      ],
      "metadata": {
        "id": "lPZB9dUwZZM_",
        "outputId": "60dfeab3-3e3e-456c-a9cf-83d66c46fd84",
        "colab": {
          "base_uri": "https://localhost:8080/"
        }
      },
      "execution_count": 46,
      "outputs": [
        {
          "output_type": "stream",
          "name": "stdout",
          "text": [
            "The number of words in input : 276\n",
            "the number of words in output : \n",
            "57\n"
          ]
        }
      ]
    },
    {
      "cell_type": "code",
      "source": [
        ""
      ],
      "metadata": {
        "id": "B4E7ICzMqLJj"
      },
      "execution_count": 29,
      "outputs": []
    }
  ]
}