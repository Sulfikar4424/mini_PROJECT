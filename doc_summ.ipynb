{
  "nbformat": 4,
  "nbformat_minor": 0,
  "metadata": {
    "colab": {
      "name": "doc_summ.ipynb",
      "provenance": [],
      "collapsed_sections": [],
      "authorship_tag": "ABX9TyN+5z7yWOXlcBV9QA7mjF8L",
      "include_colab_link": true
    },
    "kernelspec": {
      "name": "python3",
      "display_name": "Python 3"
    },
    "language_info": {
      "name": "python"
    }
  },
  "cells": [
    {
      "cell_type": "markdown",
      "metadata": {
        "id": "view-in-github",
        "colab_type": "text"
      },
      "source": [
        "<a href=\"https://colab.research.google.com/github/Sulfikar4424/mini_PROJECT/blob/main/doc_summ.ipynb\" target=\"_parent\"><img src=\"https://colab.research.google.com/assets/colab-badge.svg\" alt=\"Open In Colab\"/></a>"
      ]
    },
    {
      "cell_type": "code",
      "execution_count": 80,
      "metadata": {
        "colab": {
          "base_uri": "https://localhost:8080/"
        },
        "id": "c3U_XOnVM5BI",
        "outputId": "177b5bd5-8ebb-4251-fdc5-6ca572997f85"
      },
      "outputs": [
        {
          "output_type": "execute_result",
          "data": {
            "text/plain": [
              "['unzip:  cannot find or open *.zip, *.zip.zip or *.zip.ZIP.',\n",
              " '',\n",
              " 'No zipfiles found.']"
            ]
          },
          "metadata": {},
          "execution_count": 80
        }
      ],
      "source": [
        "!!unzip \\*.zip && rm \\*.zip"
      ]
    },
    {
      "cell_type": "code",
      "source": [
        "pip install PyPDF2"
      ],
      "metadata": {
        "colab": {
          "base_uri": "https://localhost:8080/"
        },
        "id": "iczu4EeiNO-P",
        "outputId": "29e420c4-0186-4300-d000-452ce4918458"
      },
      "execution_count": 81,
      "outputs": [
        {
          "output_type": "stream",
          "name": "stdout",
          "text": [
            "Requirement already satisfied: PyPDF2 in /usr/local/lib/python3.7/dist-packages (1.26.0)\n"
          ]
        }
      ]
    },
    {
      "cell_type": "code",
      "source": [
        "pip install docx2txt"
      ],
      "metadata": {
        "colab": {
          "base_uri": "https://localhost:8080/"
        },
        "id": "9-k8tnTxNTT5",
        "outputId": "ece750a8-3f00-4415-e2a7-64e4846b21dc"
      },
      "execution_count": 82,
      "outputs": [
        {
          "output_type": "stream",
          "name": "stdout",
          "text": [
            "Requirement already satisfied: docx2txt in /usr/local/lib/python3.7/dist-packages (0.8)\n"
          ]
        }
      ]
    },
    {
      "cell_type": "code",
      "source": [
        "import numpy as np\n",
        "import PyPDF2\n",
        "import docx2txt\n",
        "import sys"
      ],
      "metadata": {
        "id": "pqAYxvLBNTi3"
      },
      "execution_count": 83,
      "outputs": []
    },
    {
      "cell_type": "code",
      "source": [
        "import matplotlib.pyplot as plt\n",
        "%matplotlib inline"
      ],
      "metadata": {
        "id": "MZYlcNdgNTuZ"
      },
      "execution_count": 84,
      "outputs": []
    },
    {
      "cell_type": "code",
      "source": [
        "import networkx as nx"
      ],
      "metadata": {
        "id": "h3k8zAmrNT3t"
      },
      "execution_count": 85,
      "outputs": []
    },
    {
      "cell_type": "code",
      "source": [
        "from nltk.tokenize.punkt import PunktSentenceTokenizer"
      ],
      "metadata": {
        "id": "MORmdBOENSge"
      },
      "execution_count": 86,
      "outputs": []
    },
    {
      "cell_type": "code",
      "source": [
        "from sklearn.feature_extraction.text import TfidfTransformer, CountVectorizer"
      ],
      "metadata": {
        "id": "6TrWu9yUNgBi"
      },
      "execution_count": 87,
      "outputs": []
    },
    {
      "cell_type": "code",
      "source": [
        "# we are going to show an example of how the method is working\n",
        "# first let's take the document as an input\n",
        "def readDoc():\n",
        "    name = input('Please input a file name: ') \n",
        "    print('You have asked for the document {}'.format(name))\n",
        "\n",
        "    # now read the type of document\n",
        "    if name.lower().endswith('.txt'):\n",
        "        choice = 1\n",
        "    elif name.lower().endswith('.pdf'):\n",
        "        choice = 2\n",
        "    else:\n",
        "        choice = 3\n",
        "        # print(name)\n",
        "    print(choice)\n",
        "    # Case 1: if it is a .txt file\n",
        "        \n",
        "    if choice == 1:\n",
        "        f = open(name, 'r')\n",
        "        article_text = f.read()\n",
        "        f.close()\n",
        "            \n",
        "    # Case 2: if it is a .pdf file\n",
        "    elif choice == 2:\n",
        "        pdfFileObj = open(name, 'rb')\n",
        "        pdfReader = PyPDF2.PdfFileReader(pdfFileObj)\n",
        "        pageObj = pdfReader.getPage(0)\n",
        "        article_text = pageObj.extractText()\n",
        "        pdfFileObj.close()\n",
        "    \n",
        "    # Case 3: none of the format\n",
        "    else:\n",
        "        print('Failed to load a valid file')\n",
        "        print('Returning an empty string')\n",
        "        article_text = ''\n",
        "    \n",
        "    print(type(article_text))\n",
        "    return article_text"
      ],
      "metadata": {
        "id": "O7gAT8eeNgHj"
      },
      "execution_count": 88,
      "outputs": []
    },
    {
      "cell_type": "code",
      "source": [
        "# the function used for tokenizing the sentences\n",
        "# tokenization of a sentence: '''provided in cell() above'''\n",
        "\n",
        "def tokenize(article_text):\n",
        "    # We are tokenizing using the PunktSentenceTokenizer\n",
        "    # we call an instance of this class as sentence_tokenizer\n",
        "    doc_tokenizer = PunktSentenceTokenizer()\n",
        "    \n",
        "    # tokenize() method: takes our document as input and returns a list of all the sentences in the document\n",
        "    \n",
        "    # sentences is a list containing each sentence of the document as an element\n",
        "    sentences_list = doc_tokenizer.tokenize(document)\n",
        "    return sentences_list"
      ],
      "metadata": {
        "id": "do0u8cjwNgLe"
      },
      "execution_count": 89,
      "outputs": []
    },
    {
      "cell_type": "code",
      "source": [
        "# reading a file and \n",
        "# printing the size of the file\n",
        "article_text = readDoc()\n",
        "print('The length of the file is:', end=' ')\n",
        "print(len(article_text))"
      ],
      "metadata": {
        "colab": {
          "base_uri": "https://localhost:8080/"
        },
        "id": "blHykQHgNgPr",
        "outputId": "e6907017-e621-497d-9167-1bbeb58e11fb"
      },
      "execution_count": 109,
      "outputs": [
        {
          "output_type": "stream",
          "name": "stdout",
          "text": [
            "Please input a file name: data.pdf\n",
            "You have asked for the document data.pdf\n",
            "2\n",
            "<class 'str'>\n",
            "The length of the file is: 1763\n"
          ]
        }
      ]
    },
    {
      "cell_type": "code",
      "source": [
        "print(article_text)"
      ],
      "metadata": {
        "colab": {
          "base_uri": "https://localhost:8080/"
        },
        "id": "MdZ8l0YkyVTK",
        "outputId": "09a4559f-59dd-48ca-de2c-b342720ac933"
      },
      "execution_count": 91,
      "outputs": [
        {
          "output_type": "stream",
          "name": "stdout",
          "text": [
            "Traveling is one of the most valuable and enriching experiences in our lives \n",
            " \n",
            "increasing our knowledge, opening our minds, enriching our spirits, extending new moral \n",
            " \n",
            "values; and you can find many destinations in the world that would fulfill your desires. \n",
            " \n",
            "But, if what you are looking for is a unique and memorable experience that will give you \n",
            " \n",
            "the opportunity to learn about another culture through art, cultural events,\n",
            " \n",
            "historical cites, \n",
            " \n",
            "and archeological treasures, a place to visit is certainly Italy. Among many places in the \n",
            " \n",
            "world where you can relive the past, Italy is certainly the most charming place. This little \n",
            " \n",
            "country in the middle of the Mediterranean represe\n",
            "nts the cradle of the Roman Empire \n",
            " \n",
            "and the Renaissance, and offers an incredible number of opportunities for people eager to \n",
            " \n",
            "learn about an ancient civilization that shaped the history of many cultures. Moreover, \n",
            " \n",
            "\n",
            "ducational, Scientific and Cultural \n",
            " \n",
            "\n",
            " \n",
            "\n",
            " \n",
            "\n",
            "hough every little corner of this country \n",
            " \n",
            "\n",
            " \n",
            "\n",
            " \n",
            "beauty and their historic, cultural, \n",
            "and artistic value, and these cities are Rome and \n",
            " \n",
            "Venice.  \n",
            " \n",
            "Rome is a large city in the middle of the Country and historically was the center \n",
            " \n",
            "of the Roman Empire and of Christianity; today the center of the Catholic Church of the \n",
            " \n",
            "entire world is in the \n",
            "Vatican City, which although it is considered a separate state, is \n",
            " \n",
            "\n",
            " \n",
            "\n",
            " \n",
            "offering cultur\n",
            "al visitors the opportunity to learn about architecture, art and many aspects \n",
            " \n",
            "of western civilization through guided educational tours. Many of the historic sites and \n",
            " \n",
            "museums can be reached by foot once you have reached down town, and I would suggest \n",
            " \n",
            "ta\n",
            "king a walk, if it is possible, because not only will the famous historical landmarks \n",
            " \n",
            "\n"
          ]
        }
      ]
    },
    {
      "cell_type": "code",
      "source": [
        "import re\n",
        "import nltk"
      ],
      "metadata": {
        "id": "iSejcDZf8DsM"
      },
      "execution_count": 92,
      "outputs": []
    },
    {
      "cell_type": "markdown",
      "source": [
        "pre processing"
      ],
      "metadata": {
        "id": "Lr7u_X3cZXZu"
      }
    },
    {
      "cell_type": "code",
      "source": [
        "article_text = article_text.lower()\n",
        "article_text"
      ],
      "metadata": {
        "colab": {
          "base_uri": "https://localhost:8080/",
          "height": 159
        },
        "id": "RtZxEiz28Dyv",
        "outputId": "8e12678f-82ed-40cb-ecc0-ec6aac8af771"
      },
      "execution_count": 93,
      "outputs": [
        {
          "output_type": "execute_result",
          "data": {
            "application/vnd.google.colaboratory.intrinsic+json": {
              "type": "string"
            },
            "text/plain": [
              "'traveling is one of the most valuable and enriching experiences in our lives \\n \\nincreasing our knowledge, opening our minds, enriching our spirits, extending new moral \\n \\nvalues; and you can find many destinations in the world that would fulfill your desires. \\n \\nbut, if what you are looking for is a unique and memorable experience that will give you \\n \\nthe opportunity to learn about another culture through art, cultural events,\\n \\nhistorical cites, \\n \\nand archeological treasures, a place to visit is certainly italy. among many places in the \\n \\nworld where you can relive the past, italy is certainly the most charming place. this little \\n \\ncountry in the middle of the mediterranean represe\\nnts the cradle of the roman empire \\n \\nand the renaissance, and offers an incredible number of opportunities for people eager to \\n \\nlearn about an ancient civilization that shaped the history of many cultures. moreover, \\n \\n\\nducational, scientific and cultural \\n \\n\\n \\n\\n \\n\\nhough every little corner of this country \\n \\n\\n \\n\\n \\nbeauty and their historic, cultural, \\nand artistic value, and these cities are rome and \\n \\nvenice.  \\n \\nrome is a large city in the middle of the country and historically was the center \\n \\nof the roman empire and of christianity; today the center of the catholic church of the \\n \\nentire world is in the \\nvatican city, which although it is considered a separate state, is \\n \\n\\n \\n\\n \\noffering cultur\\nal visitors the opportunity to learn about architecture, art and many aspects \\n \\nof western civilization through guided educational tours. many of the historic sites and \\n \\nmuseums can be reached by foot once you have reached down town, and i would suggest \\n \\nta\\nking a walk, if it is possible, because not only will the famous historical landmarks \\n \\n'"
            ]
          },
          "metadata": {},
          "execution_count": 93
        }
      ]
    },
    {
      "cell_type": "code",
      "source": [
        "# remove spaces, punctuations and numbers\n",
        "clean_text = re.sub('[^a-zA-Z]', ' ', article_text)\n",
        "clean_text = re.sub('\\s+', ' ', clean_text)\n",
        "clean_text"
      ],
      "metadata": {
        "colab": {
          "base_uri": "https://localhost:8080/",
          "height": 245
        },
        "id": "6D3mroKg8D6g",
        "outputId": "7abb7724-f462-4f8f-84b2-837dafb900ea"
      },
      "execution_count": 94,
      "outputs": [
        {
          "output_type": "execute_result",
          "data": {
            "application/vnd.google.colaboratory.intrinsic+json": {
              "type": "string"
            },
            "text/plain": [
              "'traveling is one of the most valuable and enriching experiences in our lives increasing our knowledge opening our minds enriching our spirits extending new moral values and you can find many destinations in the world that would fulfill your desires but if what you are looking for is a unique and memorable experience that will give you the opportunity to learn about another culture through art cultural events historical cites and archeological treasures a place to visit is certainly italy among many places in the world where you can relive the past italy is certainly the most charming place this little country in the middle of the mediterranean represe nts the cradle of the roman empire and the renaissance and offers an incredible number of opportunities for people eager to learn about an ancient civilization that shaped the history of many cultures moreover ducational scientific and cultural hough every little corner of this country beauty and their historic cultural and artistic value and these cities are rome and venice rome is a large city in the middle of the country and historically was the center of the roman empire and of christianity today the center of the catholic church of the entire world is in the vatican city which although it is considered a separate state is offering cultur al visitors the opportunity to learn about architecture art and many aspects of western civilization through guided educational tours many of the historic sites and museums can be reached by foot once you have reached down town and i would suggest ta king a walk if it is possible because not only will the famous historical landmarks '"
            ]
          },
          "metadata": {},
          "execution_count": 94
        }
      ]
    },
    {
      "cell_type": "code",
      "source": [
        "import nltk\n",
        "nltk.download('punkt')"
      ],
      "metadata": {
        "colab": {
          "base_uri": "https://localhost:8080/"
        },
        "id": "rC4mBQec8D9U",
        "outputId": "5e4f312a-a96f-44ae-974f-5d50cfdaff50"
      },
      "execution_count": 95,
      "outputs": [
        {
          "output_type": "stream",
          "name": "stdout",
          "text": [
            "[nltk_data] Downloading package punkt to /root/nltk_data...\n",
            "[nltk_data]   Package punkt is already up-to-date!\n"
          ]
        },
        {
          "output_type": "execute_result",
          "data": {
            "text/plain": [
              "True"
            ]
          },
          "metadata": {},
          "execution_count": 95
        }
      ]
    },
    {
      "cell_type": "code",
      "source": [
        "# split into sentence list\n",
        "sentence_list = nltk.sent_tokenize(article_text)\n",
        "sentence_list"
      ],
      "metadata": {
        "colab": {
          "base_uri": "https://localhost:8080/"
        },
        "id": "LiAc640n8EES",
        "outputId": "52fb931a-bc09-407a-dfd3-8ef738301f7e"
      },
      "execution_count": 96,
      "outputs": [
        {
          "output_type": "execute_result",
          "data": {
            "text/plain": [
              "['traveling is one of the most valuable and enriching experiences in our lives \\n \\nincreasing our knowledge, opening our minds, enriching our spirits, extending new moral \\n \\nvalues; and you can find many destinations in the world that would fulfill your desires.',\n",
              " 'but, if what you are looking for is a unique and memorable experience that will give you \\n \\nthe opportunity to learn about another culture through art, cultural events,\\n \\nhistorical cites, \\n \\nand archeological treasures, a place to visit is certainly italy.',\n",
              " 'among many places in the \\n \\nworld where you can relive the past, italy is certainly the most charming place.',\n",
              " 'this little \\n \\ncountry in the middle of the mediterranean represe\\nnts the cradle of the roman empire \\n \\nand the renaissance, and offers an incredible number of opportunities for people eager to \\n \\nlearn about an ancient civilization that shaped the history of many cultures.',\n",
              " 'moreover, \\n \\n\\nducational, scientific and cultural \\n \\n\\n \\n\\n \\n\\nhough every little corner of this country \\n \\n\\n \\n\\n \\nbeauty and their historic, cultural, \\nand artistic value, and these cities are rome and \\n \\nvenice.',\n",
              " 'rome is a large city in the middle of the country and historically was the center \\n \\nof the roman empire and of christianity; today the center of the catholic church of the \\n \\nentire world is in the \\nvatican city, which although it is considered a separate state, is \\n \\n\\n \\n\\n \\noffering cultur\\nal visitors the opportunity to learn about architecture, art and many aspects \\n \\nof western civilization through guided educational tours.',\n",
              " 'many of the historic sites and \\n \\nmuseums can be reached by foot once you have reached down town, and i would suggest \\n \\nta\\nking a walk, if it is possible, because not only will the famous historical landmarks']"
            ]
          },
          "metadata": {},
          "execution_count": 96
        }
      ]
    },
    {
      "cell_type": "code",
      "source": [
        "## run this cell once to download stopwords\n",
        "import nltk\n",
        "nltk.download('stopwords')"
      ],
      "metadata": {
        "colab": {
          "base_uri": "https://localhost:8080/"
        },
        "id": "X_FCn84U8UJF",
        "outputId": "7844af5f-9181-46ff-dd3d-f797fce09362"
      },
      "execution_count": 97,
      "outputs": [
        {
          "output_type": "stream",
          "name": "stdout",
          "text": [
            "[nltk_data] Downloading package stopwords to /root/nltk_data...\n",
            "[nltk_data]   Package stopwords is already up-to-date!\n"
          ]
        },
        {
          "output_type": "execute_result",
          "data": {
            "text/plain": [
              "True"
            ]
          },
          "metadata": {},
          "execution_count": 97
        }
      ]
    },
    {
      "cell_type": "markdown",
      "source": [
        "freq"
      ],
      "metadata": {
        "id": "Zku04CPR8cfd"
      }
    },
    {
      "cell_type": "code",
      "source": [
        "stopwords = nltk.corpus.stopwords.words('english')\n",
        "\n",
        "word_frequencies = {}\n",
        "for word in nltk.word_tokenize(clean_text):\n",
        "    if word not in stopwords:\n",
        "        if word not in word_frequencies:\n",
        "            word_frequencies[word] = 1\n",
        "        else:\n",
        "            word_frequencies[word] += 1"
      ],
      "metadata": {
        "id": "Wn8XuAY-8UK6"
      },
      "execution_count": 98,
      "outputs": []
    },
    {
      "cell_type": "code",
      "source": [
        "maximum_frequency = max(word_frequencies.values())\n",
        "\n",
        "for word in word_frequencies:\n",
        "    word_frequencies[word] = word_frequencies[word] / maximum_frequency"
      ],
      "metadata": {
        "id": "Tu1P9zsE8UNa"
      },
      "execution_count": 99,
      "outputs": []
    },
    {
      "cell_type": "markdown",
      "source": [
        "Calculate Sentence Scores"
      ],
      "metadata": {
        "id": "oO46Ig858igv"
      }
    },
    {
      "cell_type": "code",
      "source": [
        "sentence_scores = {}\n",
        "\n",
        "for sentence in sentence_list:\n",
        "    for word in nltk.word_tokenize(sentence):\n",
        "        if word in word_frequencies and len(sentence.split(' ')) < 30:\n",
        "            if sentence not in sentence_scores:\n",
        "                sentence_scores[sentence] = word_frequencies[word]\n",
        "            else:\n",
        "                sentence_scores[sentence] += word_frequencies[word]"
      ],
      "metadata": {
        "id": "f2WgU9f_8UQb"
      },
      "execution_count": 100,
      "outputs": []
    },
    {
      "cell_type": "code",
      "source": [
        "word_frequencies"
      ],
      "metadata": {
        "colab": {
          "base_uri": "https://localhost:8080/"
        },
        "id": "hwZT9NJJ8EHx",
        "outputId": "7c267e46-5cf7-409a-b95d-96d1a75b7fff"
      },
      "execution_count": 101,
      "outputs": [
        {
          "output_type": "execute_result",
          "data": {
            "text/plain": [
              "{'al': 0.2,\n",
              " 'although': 0.2,\n",
              " 'among': 0.2,\n",
              " 'ancient': 0.2,\n",
              " 'another': 0.2,\n",
              " 'archeological': 0.2,\n",
              " 'architecture': 0.2,\n",
              " 'art': 0.4,\n",
              " 'artistic': 0.2,\n",
              " 'aspects': 0.2,\n",
              " 'beauty': 0.2,\n",
              " 'catholic': 0.2,\n",
              " 'center': 0.4,\n",
              " 'certainly': 0.4,\n",
              " 'charming': 0.2,\n",
              " 'christianity': 0.2,\n",
              " 'church': 0.2,\n",
              " 'cites': 0.2,\n",
              " 'cities': 0.2,\n",
              " 'city': 0.4,\n",
              " 'civilization': 0.4,\n",
              " 'considered': 0.2,\n",
              " 'corner': 0.2,\n",
              " 'country': 0.6,\n",
              " 'cradle': 0.2,\n",
              " 'cultur': 0.2,\n",
              " 'cultural': 0.6,\n",
              " 'culture': 0.2,\n",
              " 'cultures': 0.2,\n",
              " 'desires': 0.2,\n",
              " 'destinations': 0.2,\n",
              " 'ducational': 0.2,\n",
              " 'eager': 0.2,\n",
              " 'educational': 0.2,\n",
              " 'empire': 0.4,\n",
              " 'enriching': 0.4,\n",
              " 'entire': 0.2,\n",
              " 'events': 0.2,\n",
              " 'every': 0.2,\n",
              " 'experience': 0.2,\n",
              " 'experiences': 0.2,\n",
              " 'extending': 0.2,\n",
              " 'famous': 0.2,\n",
              " 'find': 0.2,\n",
              " 'foot': 0.2,\n",
              " 'fulfill': 0.2,\n",
              " 'give': 0.2,\n",
              " 'guided': 0.2,\n",
              " 'historic': 0.4,\n",
              " 'historical': 0.4,\n",
              " 'historically': 0.2,\n",
              " 'history': 0.2,\n",
              " 'hough': 0.2,\n",
              " 'increasing': 0.2,\n",
              " 'incredible': 0.2,\n",
              " 'italy': 0.4,\n",
              " 'king': 0.2,\n",
              " 'knowledge': 0.2,\n",
              " 'landmarks': 0.2,\n",
              " 'large': 0.2,\n",
              " 'learn': 0.6,\n",
              " 'little': 0.4,\n",
              " 'lives': 0.2,\n",
              " 'looking': 0.2,\n",
              " 'many': 1.0,\n",
              " 'mediterranean': 0.2,\n",
              " 'memorable': 0.2,\n",
              " 'middle': 0.4,\n",
              " 'minds': 0.2,\n",
              " 'moral': 0.2,\n",
              " 'moreover': 0.2,\n",
              " 'museums': 0.2,\n",
              " 'new': 0.2,\n",
              " 'nts': 0.2,\n",
              " 'number': 0.2,\n",
              " 'offering': 0.2,\n",
              " 'offers': 0.2,\n",
              " 'one': 0.2,\n",
              " 'opening': 0.2,\n",
              " 'opportunities': 0.2,\n",
              " 'opportunity': 0.4,\n",
              " 'past': 0.2,\n",
              " 'people': 0.2,\n",
              " 'place': 0.4,\n",
              " 'places': 0.2,\n",
              " 'possible': 0.2,\n",
              " 'reached': 0.4,\n",
              " 'relive': 0.2,\n",
              " 'renaissance': 0.2,\n",
              " 'represe': 0.2,\n",
              " 'roman': 0.4,\n",
              " 'rome': 0.4,\n",
              " 'scientific': 0.2,\n",
              " 'separate': 0.2,\n",
              " 'shaped': 0.2,\n",
              " 'sites': 0.2,\n",
              " 'spirits': 0.2,\n",
              " 'state': 0.2,\n",
              " 'suggest': 0.2,\n",
              " 'ta': 0.2,\n",
              " 'today': 0.2,\n",
              " 'tours': 0.2,\n",
              " 'town': 0.2,\n",
              " 'traveling': 0.2,\n",
              " 'treasures': 0.2,\n",
              " 'unique': 0.2,\n",
              " 'valuable': 0.2,\n",
              " 'value': 0.2,\n",
              " 'values': 0.2,\n",
              " 'vatican': 0.2,\n",
              " 'venice': 0.2,\n",
              " 'visit': 0.2,\n",
              " 'visitors': 0.2,\n",
              " 'walk': 0.2,\n",
              " 'western': 0.2,\n",
              " 'world': 0.6,\n",
              " 'would': 0.4}"
            ]
          },
          "metadata": {},
          "execution_count": 101
        }
      ]
    },
    {
      "cell_type": "code",
      "source": [
        "sentence_scores"
      ],
      "metadata": {
        "colab": {
          "base_uri": "https://localhost:8080/"
        },
        "id": "0Dlmqdxy8n5Y",
        "outputId": "e39e2be1-ed57-45a3-85f0-1c28b57fba7f"
      },
      "execution_count": 102,
      "outputs": [
        {
          "output_type": "execute_result",
          "data": {
            "text/plain": [
              "{'among many places in the \\n \\nworld where you can relive the past, italy is certainly the most charming place.': 3.8000000000000003}"
            ]
          },
          "metadata": {},
          "execution_count": 102
        }
      ]
    },
    {
      "cell_type": "markdown",
      "source": [
        "Summary"
      ],
      "metadata": {
        "id": "R8Pdi3a18uMc"
      }
    },
    {
      "cell_type": "code",
      "source": [
        ""
      ],
      "metadata": {
        "id": "eBKlRv-58n9t"
      },
      "execution_count": 102,
      "outputs": []
    },
    {
      "cell_type": "code",
      "source": [
        "import heapq\n",
        "summary = heapq.nlargest(5, sentence_scores, key=sentence_scores.get)\n",
        "\n",
        "print(\" \".join(summary))"
      ],
      "metadata": {
        "colab": {
          "base_uri": "https://localhost:8080/"
        },
        "id": "KiUViuyd8oDQ",
        "outputId": "7a16ab85-aad0-4494-cc8b-2a126923a8ad"
      },
      "execution_count": 103,
      "outputs": [
        {
          "output_type": "stream",
          "name": "stdout",
          "text": [
            "among many places in the \n",
            " \n",
            "world where you can relive the past, italy is certainly the most charming place.\n"
          ]
        }
      ]
    },
    {
      "cell_type": "code",
      "source": [
        "# print(sentence_list)\n",
        "summary = \" \".join(str(x) for x in article_text)\n",
        "#print(summary)\n",
        "# save the data in another file, names sum.txt\n",
        "f = open('final3.txt', '+a')\n",
        "#print(type(f))\n",
        "f.write('\\n')\n",
        "f.write(summary)\n",
        "print(f.read())\n",
        "f.close"
      ],
      "metadata": {
        "id": "bz4st_cXI2dX",
        "outputId": "e87bb37a-08a7-4dd3-e97f-f9ea4b322b3a",
        "colab": {
          "base_uri": "https://localhost:8080/"
        }
      },
      "execution_count": 111,
      "outputs": [
        {
          "output_type": "stream",
          "name": "stdout",
          "text": [
            "\n"
          ]
        },
        {
          "output_type": "execute_result",
          "data": {
            "text/plain": [
              "<function TextIOWrapper.close>"
            ]
          },
          "metadata": {},
          "execution_count": 111
        }
      ]
    },
    {
      "cell_type": "markdown",
      "source": [
        "EVALUATION"
      ],
      "metadata": {
        "id": "meFTlZ2e9JAx"
      }
    },
    {
      "cell_type": "code",
      "source": [
        "pip install git+https://github.com/tagucci/pythonrouge.git"
      ],
      "metadata": {
        "id": "loH3qWYuJ4wi",
        "outputId": "2583f1ba-5737-40ce-80de-67424ee0ba7c",
        "colab": {
          "base_uri": "https://localhost:8080/"
        }
      },
      "execution_count": 112,
      "outputs": [
        {
          "output_type": "stream",
          "name": "stdout",
          "text": [
            "Collecting git+https://github.com/tagucci/pythonrouge.git\n",
            "  Cloning https://github.com/tagucci/pythonrouge.git to /tmp/pip-req-build-varzottp\n",
            "  Running command git clone -q https://github.com/tagucci/pythonrouge.git /tmp/pip-req-build-varzottp\n"
          ]
        }
      ]
    },
    {
      "cell_type": "code",
      "source": [
        "pip install rouge"
      ],
      "metadata": {
        "colab": {
          "base_uri": "https://localhost:8080/"
        },
        "id": "e30ytO1C8oHR",
        "outputId": "e1609dff-d78f-45ce-a896-5d4c7fd6e3d0"
      },
      "execution_count": 113,
      "outputs": [
        {
          "output_type": "stream",
          "name": "stdout",
          "text": [
            "Requirement already satisfied: rouge in /usr/local/lib/python3.7/dist-packages (1.0.1)\n",
            "Requirement already satisfied: six in /usr/local/lib/python3.7/dist-packages (from rouge) (1.15.0)\n"
          ]
        }
      ]
    },
    {
      "cell_type": "code",
      "source": [
        "from rouge import Rouge\n",
        "hum_sum = readDoc()\n",
        "# print('The length of the file is:', end=' ')\n",
        "# print(len(hum_sum))\n",
        "\n",
        "summary = [\" \".join(str(x) for x in article_text)]\n",
        "h_summ = [(hum_sum)]\n",
        "\n",
        "rouge = Rouge()\n",
        "rouge_score = rouge.get_scores(summary, h_summ)\n",
        "print(rouge_score[0][\"rouge-1\"])\n",
        "print(rouge_score[0][\"rouge-2\"])\n",
        "print(rouge_score[0][\"rouge-l\"])"
      ],
      "metadata": {
        "colab": {
          "base_uri": "https://localhost:8080/"
        },
        "id": "DEzjHubv8oOA",
        "outputId": "e353cbcd-91ff-4eb3-995c-8a104025b0b4"
      },
      "execution_count": 115,
      "outputs": [
        {
          "output_type": "stream",
          "name": "stdout",
          "text": [
            "Please input a file name: humsum.pdf\n",
            "You have asked for the document humsum.pdf\n",
            "2\n",
            "<class 'str'>\n",
            "{'r': 0.018518518518518517, 'p': 0.02702702702702703, 'f': 0.02197801715251887}\n",
            "{'r': 0.0, 'p': 0.0, 'f': 0.0}\n",
            "{'r': 0.018518518518518517, 'p': 0.02702702702702703, 'f': 0.02197801715251887}\n"
          ]
        }
      ]
    },
    {
      "cell_type": "markdown",
      "source": [
        "COUNT"
      ],
      "metadata": {
        "id": "15XV-vXbZN87"
      }
    },
    {
      "cell_type": "code",
      "source": [
        "import re\n",
        "res = len(re.findall(r'\\w+', article_text))\n",
        "# total no of words\n",
        "print (\"The number of words in input : \" + str(res))\n",
        "res1 = len(re.findall(r'\\w+', 'i write a thesis statement based off those three examples, reasons, or pieces of evidence; i flesh out my introduction with a hook; and i write a conclusion paragraph. for a 1000-word essay, i double the recipe writing by two paragraphs, rather than only one, for the introduction, the three supporting paragraphs, and the conclusion paragraph. the five-paragraph model is a valuable tool for many writing situations because it structures my writing, it aids my readers, and it is versatile. then, i develop those three examples, reasons, or pieces of evidence into its own paragraph. for a standard 400 to 500-word paper, i apply the standard single batch of the recipe, writing 75 to 100 words in each of the five paragraphs.'))\n",
        "# total no of words\n",
        "print (\"The number of words in Summery : \" + str(res1))"
      ],
      "metadata": {
        "id": "lPZB9dUwZZM_",
        "outputId": "3c0f4d70-7e7a-4f74-f4f0-520aff96cb1c",
        "colab": {
          "base_uri": "https://localhost:8080/"
        }
      },
      "execution_count": 116,
      "outputs": [
        {
          "output_type": "stream",
          "name": "stdout",
          "text": [
            "The number of words in input : 276\n",
            "The number of words in Summery : 125\n"
          ]
        }
      ]
    },
    {
      "cell_type": "code",
      "source": [
        ""
      ],
      "metadata": {
        "id": "B4E7ICzMqLJj"
      },
      "execution_count": null,
      "outputs": []
    }
  ]
}